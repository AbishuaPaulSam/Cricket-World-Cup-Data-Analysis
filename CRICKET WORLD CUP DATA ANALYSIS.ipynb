{
 "cells": [
  {
   "cell_type": "code",
   "execution_count": null,
   "id": "e9189573",
   "metadata": {},
   "outputs": [],
   "source": []
  },
  {
   "cell_type": "code",
   "execution_count": 184,
   "id": "539ac21e",
   "metadata": {},
   "outputs": [],
   "source": [
    "## IMPORTING LIBRARIES:\n",
    "import pandas as pd\n",
    "import numpy as np\n",
    "import json\n",
    "import matplotlib.pyplot as plt\n",
    "import seaborn as sns\n",
    "pd.set_option('display.max_rows', None)\n",
    "\n",
    "%matplotlib inline\n",
    "\n",
    "# Auto reloads notebook when changes are made\n",
    "%reload_ext autoreload\n",
    "%autoreload 2"
   ]
  },
  {
   "cell_type": "markdown",
   "id": "8c5a9b88",
   "metadata": {},
   "source": [
    "## Importing Datasets"
   ]
  },
  {
   "cell_type": "raw",
   "id": "a7a30bde",
   "metadata": {},
   "source": [
    "Match Summary"
   ]
  },
  {
   "cell_type": "code",
   "execution_count": 61,
   "id": "c0eabc04",
   "metadata": {},
   "outputs": [
    {
     "data": {
      "text/html": [
       "<div>\n",
       "<style scoped>\n",
       "    .dataframe tbody tr th:only-of-type {\n",
       "        vertical-align: middle;\n",
       "    }\n",
       "\n",
       "    .dataframe tbody tr th {\n",
       "        vertical-align: top;\n",
       "    }\n",
       "\n",
       "    .dataframe thead th {\n",
       "        text-align: right;\n",
       "    }\n",
       "</style>\n",
       "<table border=\"1\" class=\"dataframe\">\n",
       "  <thead>\n",
       "    <tr style=\"text-align: right;\">\n",
       "      <th></th>\n",
       "      <th>team1</th>\n",
       "      <th>team2</th>\n",
       "      <th>winner</th>\n",
       "      <th>margin</th>\n",
       "      <th>ground</th>\n",
       "      <th>matchDate</th>\n",
       "      <th>scorecard</th>\n",
       "    </tr>\n",
       "  </thead>\n",
       "  <tbody>\n",
       "    <tr>\n",
       "      <th>0</th>\n",
       "      <td>Namibia</td>\n",
       "      <td>Sri Lanka</td>\n",
       "      <td>Namibia</td>\n",
       "      <td>55 runs</td>\n",
       "      <td>Geelong</td>\n",
       "      <td>Oct 16, 2022</td>\n",
       "      <td>T20I # 1823</td>\n",
       "    </tr>\n",
       "    <tr>\n",
       "      <th>1</th>\n",
       "      <td>Netherlands</td>\n",
       "      <td>U.A.E.</td>\n",
       "      <td>Netherlands</td>\n",
       "      <td>3 wickets</td>\n",
       "      <td>Geelong</td>\n",
       "      <td>Oct 16, 2022</td>\n",
       "      <td>T20I # 1825</td>\n",
       "    </tr>\n",
       "    <tr>\n",
       "      <th>2</th>\n",
       "      <td>Scotland</td>\n",
       "      <td>West Indies</td>\n",
       "      <td>Scotland</td>\n",
       "      <td>42 runs</td>\n",
       "      <td>Hobart</td>\n",
       "      <td>Oct 17, 2022</td>\n",
       "      <td>T20I # 1826</td>\n",
       "    </tr>\n",
       "    <tr>\n",
       "      <th>3</th>\n",
       "      <td>Ireland</td>\n",
       "      <td>Zimbabwe</td>\n",
       "      <td>Zimbabwe</td>\n",
       "      <td>31 runs</td>\n",
       "      <td>Hobart</td>\n",
       "      <td>Oct 17, 2022</td>\n",
       "      <td>T20I # 1828</td>\n",
       "    </tr>\n",
       "    <tr>\n",
       "      <th>4</th>\n",
       "      <td>Namibia</td>\n",
       "      <td>Netherlands</td>\n",
       "      <td>Netherlands</td>\n",
       "      <td>5 wickets</td>\n",
       "      <td>Geelong</td>\n",
       "      <td>Oct 18, 2022</td>\n",
       "      <td>T20I # 1830</td>\n",
       "    </tr>\n",
       "  </tbody>\n",
       "</table>\n",
       "</div>"
      ],
      "text/plain": [
       "         team1        team2       winner     margin   ground     matchDate  \\\n",
       "0      Namibia    Sri Lanka      Namibia    55 runs  Geelong  Oct 16, 2022   \n",
       "1  Netherlands       U.A.E.  Netherlands  3 wickets  Geelong  Oct 16, 2022   \n",
       "2     Scotland  West Indies     Scotland    42 runs   Hobart  Oct 17, 2022   \n",
       "3      Ireland     Zimbabwe     Zimbabwe    31 runs   Hobart  Oct 17, 2022   \n",
       "4      Namibia  Netherlands  Netherlands  5 wickets  Geelong  Oct 18, 2022   \n",
       "\n",
       "     scorecard  \n",
       "0  T20I # 1823  \n",
       "1  T20I # 1825  \n",
       "2  T20I # 1826  \n",
       "3  T20I # 1828  \n",
       "4  T20I # 1830  "
      ]
     },
     "execution_count": 61,
     "metadata": {},
     "output_type": "execute_result"
    }
   ],
   "source": [
    "with open('t20_wc_match_results.json') as f:\n",
    "    data = json.load(f) \n",
    "df_match = pd.DataFrame(data[0]['matchSummary'])\n",
    "df_match.head(5)"
   ]
  },
  {
   "cell_type": "raw",
   "id": "451286d9",
   "metadata": {},
   "source": [
    "Batting Summary"
   ]
  },
  {
   "cell_type": "code",
   "execution_count": 62,
   "id": "33971f0d",
   "metadata": {},
   "outputs": [
    {
     "data": {
      "text/html": [
       "<div>\n",
       "<style scoped>\n",
       "    .dataframe tbody tr th:only-of-type {\n",
       "        vertical-align: middle;\n",
       "    }\n",
       "\n",
       "    .dataframe tbody tr th {\n",
       "        vertical-align: top;\n",
       "    }\n",
       "\n",
       "    .dataframe thead th {\n",
       "        text-align: right;\n",
       "    }\n",
       "</style>\n",
       "<table border=\"1\" class=\"dataframe\">\n",
       "  <thead>\n",
       "    <tr style=\"text-align: right;\">\n",
       "      <th></th>\n",
       "      <th>match</th>\n",
       "      <th>teamInnings</th>\n",
       "      <th>battingPos</th>\n",
       "      <th>batsmanName</th>\n",
       "      <th>dismissal</th>\n",
       "      <th>runs</th>\n",
       "      <th>balls</th>\n",
       "      <th>4s</th>\n",
       "      <th>6s</th>\n",
       "      <th>SR</th>\n",
       "    </tr>\n",
       "  </thead>\n",
       "  <tbody>\n",
       "    <tr>\n",
       "      <th>0</th>\n",
       "      <td>Namibia Vs Sri Lanka</td>\n",
       "      <td>Namibia</td>\n",
       "      <td>1</td>\n",
       "      <td>Michael van Lingen</td>\n",
       "      <td>c Pramod Madushan b Chameera</td>\n",
       "      <td>3</td>\n",
       "      <td>6</td>\n",
       "      <td>0</td>\n",
       "      <td>0</td>\n",
       "      <td>50.00</td>\n",
       "    </tr>\n",
       "    <tr>\n",
       "      <th>1</th>\n",
       "      <td>Namibia Vs Sri Lanka</td>\n",
       "      <td>Namibia</td>\n",
       "      <td>2</td>\n",
       "      <td>Divan la Cock</td>\n",
       "      <td>c Shanaka b Pramod Madushan</td>\n",
       "      <td>9</td>\n",
       "      <td>9</td>\n",
       "      <td>1</td>\n",
       "      <td>0</td>\n",
       "      <td>100.00</td>\n",
       "    </tr>\n",
       "    <tr>\n",
       "      <th>2</th>\n",
       "      <td>Namibia Vs Sri Lanka</td>\n",
       "      <td>Namibia</td>\n",
       "      <td>3</td>\n",
       "      <td>Jan Nicol Loftie-Eaton</td>\n",
       "      <td>c â€ Mendis b Karunaratne</td>\n",
       "      <td>20</td>\n",
       "      <td>12</td>\n",
       "      <td>1</td>\n",
       "      <td>2</td>\n",
       "      <td>166.66</td>\n",
       "    </tr>\n",
       "    <tr>\n",
       "      <th>3</th>\n",
       "      <td>Namibia Vs Sri Lanka</td>\n",
       "      <td>Namibia</td>\n",
       "      <td>4</td>\n",
       "      <td>Stephan Baard</td>\n",
       "      <td>c DM de Silva b Pramod Madushan</td>\n",
       "      <td>26</td>\n",
       "      <td>24</td>\n",
       "      <td>2</td>\n",
       "      <td>0</td>\n",
       "      <td>108.33</td>\n",
       "    </tr>\n",
       "    <tr>\n",
       "      <th>4</th>\n",
       "      <td>Namibia Vs Sri Lanka</td>\n",
       "      <td>Namibia</td>\n",
       "      <td>5</td>\n",
       "      <td>Gerhard Erasmus(c)</td>\n",
       "      <td>c Gunathilaka b PWH de Silva</td>\n",
       "      <td>20</td>\n",
       "      <td>24</td>\n",
       "      <td>0</td>\n",
       "      <td>0</td>\n",
       "      <td>83.33</td>\n",
       "    </tr>\n",
       "  </tbody>\n",
       "</table>\n",
       "</div>"
      ],
      "text/plain": [
       "                  match teamInnings  battingPos             batsmanName  \\\n",
       "0  Namibia Vs Sri Lanka     Namibia           1      Michael van Lingen   \n",
       "1  Namibia Vs Sri Lanka     Namibia           2           Divan la Cock   \n",
       "2  Namibia Vs Sri Lanka     Namibia           3  Jan Nicol Loftie-Eaton   \n",
       "3  Namibia Vs Sri Lanka     Namibia           4           Stephan Baard   \n",
       "4  Namibia Vs Sri Lanka     Namibia           5      Gerhard Erasmus(c)   \n",
       "\n",
       "                         dismissal runs balls 4s 6s      SR  \n",
       "0     c Pramod Madushan b Chameera    3     6  0  0   50.00  \n",
       "1      c Shanaka b Pramod Madushan    9     9  1  0  100.00  \n",
       "2        c â€ Mendis b Karunaratne   20    12  1  2  166.66  \n",
       "3  c DM de Silva b Pramod Madushan   26    24  2  0  108.33  \n",
       "4     c Gunathilaka b PWH de Silva   20    24  0  0   83.33  "
      ]
     },
     "execution_count": 62,
     "metadata": {},
     "output_type": "execute_result"
    }
   ],
   "source": [
    "with open('t20_wc_batting_summary.json') as f:\n",
    "    data = json.load(f)\n",
    "    \n",
    "    all_records = []\n",
    "    for rec in data:\n",
    "        all_records.extend(rec['battingSummary'])\n",
    "df_batting = pd.DataFrame(all_records)\n",
    "df_batting.head(5)"
   ]
  },
  {
   "cell_type": "raw",
   "id": "fa2f9e90",
   "metadata": {},
   "source": [
    "Bowling Summary"
   ]
  },
  {
   "cell_type": "code",
   "execution_count": 63,
   "id": "2a566f8a",
   "metadata": {
    "scrolled": true
   },
   "outputs": [
    {
     "data": {
      "text/html": [
       "<div>\n",
       "<style scoped>\n",
       "    .dataframe tbody tr th:only-of-type {\n",
       "        vertical-align: middle;\n",
       "    }\n",
       "\n",
       "    .dataframe tbody tr th {\n",
       "        vertical-align: top;\n",
       "    }\n",
       "\n",
       "    .dataframe thead th {\n",
       "        text-align: right;\n",
       "    }\n",
       "</style>\n",
       "<table border=\"1\" class=\"dataframe\">\n",
       "  <thead>\n",
       "    <tr style=\"text-align: right;\">\n",
       "      <th></th>\n",
       "      <th>match</th>\n",
       "      <th>bowlingTeam</th>\n",
       "      <th>bowlerName</th>\n",
       "      <th>overs</th>\n",
       "      <th>maiden</th>\n",
       "      <th>runs</th>\n",
       "      <th>wickets</th>\n",
       "      <th>economy</th>\n",
       "      <th>0s</th>\n",
       "      <th>4s</th>\n",
       "      <th>6s</th>\n",
       "      <th>wides</th>\n",
       "      <th>noBalls</th>\n",
       "    </tr>\n",
       "  </thead>\n",
       "  <tbody>\n",
       "    <tr>\n",
       "      <th>0</th>\n",
       "      <td>Namibia Vs Sri Lanka</td>\n",
       "      <td>Sri Lanka</td>\n",
       "      <td>Maheesh Theekshana</td>\n",
       "      <td>4</td>\n",
       "      <td>0</td>\n",
       "      <td>23</td>\n",
       "      <td>1</td>\n",
       "      <td>5.75</td>\n",
       "      <td>7</td>\n",
       "      <td>0</td>\n",
       "      <td>0</td>\n",
       "      <td>2</td>\n",
       "      <td>0</td>\n",
       "    </tr>\n",
       "    <tr>\n",
       "      <th>1</th>\n",
       "      <td>Namibia Vs Sri Lanka</td>\n",
       "      <td>Sri Lanka</td>\n",
       "      <td>Dushmantha Chameera</td>\n",
       "      <td>4</td>\n",
       "      <td>0</td>\n",
       "      <td>39</td>\n",
       "      <td>1</td>\n",
       "      <td>9.75</td>\n",
       "      <td>6</td>\n",
       "      <td>3</td>\n",
       "      <td>1</td>\n",
       "      <td>2</td>\n",
       "      <td>0</td>\n",
       "    </tr>\n",
       "    <tr>\n",
       "      <th>2</th>\n",
       "      <td>Namibia Vs Sri Lanka</td>\n",
       "      <td>Sri Lanka</td>\n",
       "      <td>Pramod Madushan</td>\n",
       "      <td>4</td>\n",
       "      <td>0</td>\n",
       "      <td>37</td>\n",
       "      <td>2</td>\n",
       "      <td>9.25</td>\n",
       "      <td>6</td>\n",
       "      <td>3</td>\n",
       "      <td>1</td>\n",
       "      <td>0</td>\n",
       "      <td>0</td>\n",
       "    </tr>\n",
       "    <tr>\n",
       "      <th>3</th>\n",
       "      <td>Namibia Vs Sri Lanka</td>\n",
       "      <td>Sri Lanka</td>\n",
       "      <td>Chamika Karunaratne</td>\n",
       "      <td>4</td>\n",
       "      <td>0</td>\n",
       "      <td>36</td>\n",
       "      <td>1</td>\n",
       "      <td>9.00</td>\n",
       "      <td>7</td>\n",
       "      <td>3</td>\n",
       "      <td>1</td>\n",
       "      <td>1</td>\n",
       "      <td>0</td>\n",
       "    </tr>\n",
       "    <tr>\n",
       "      <th>4</th>\n",
       "      <td>Namibia Vs Sri Lanka</td>\n",
       "      <td>Sri Lanka</td>\n",
       "      <td>Wanindu Hasaranga de Silva</td>\n",
       "      <td>4</td>\n",
       "      <td>0</td>\n",
       "      <td>27</td>\n",
       "      <td>1</td>\n",
       "      <td>6.75</td>\n",
       "      <td>8</td>\n",
       "      <td>1</td>\n",
       "      <td>1</td>\n",
       "      <td>0</td>\n",
       "      <td>0</td>\n",
       "    </tr>\n",
       "  </tbody>\n",
       "</table>\n",
       "</div>"
      ],
      "text/plain": [
       "                  match bowlingTeam                  bowlerName overs maiden  \\\n",
       "0  Namibia Vs Sri Lanka   Sri Lanka          Maheesh Theekshana     4      0   \n",
       "1  Namibia Vs Sri Lanka   Sri Lanka         Dushmantha Chameera     4      0   \n",
       "2  Namibia Vs Sri Lanka   Sri Lanka             Pramod Madushan     4      0   \n",
       "3  Namibia Vs Sri Lanka   Sri Lanka         Chamika Karunaratne     4      0   \n",
       "4  Namibia Vs Sri Lanka   Sri Lanka  Wanindu Hasaranga de Silva     4      0   \n",
       "\n",
       "  runs wickets economy 0s 4s 6s wides noBalls  \n",
       "0   23       1    5.75  7  0  0     2       0  \n",
       "1   39       1    9.75  6  3  1     2       0  \n",
       "2   37       2    9.25  6  3  1     0       0  \n",
       "3   36       1    9.00  7  3  1     1       0  \n",
       "4   27       1    6.75  8  1  1     0       0  "
      ]
     },
     "execution_count": 63,
     "metadata": {},
     "output_type": "execute_result"
    }
   ],
   "source": [
    "with open('t20_wc_bowling_summary.json') as f:\n",
    "    data = json.load(f)\n",
    "    \n",
    "    all_records = []\n",
    "    for rec in data:\n",
    "        all_records.extend(rec['bowlingSummary'])\n",
    "df_bowling = pd.DataFrame(all_records)\n",
    "df_bowling.head(5)"
   ]
  },
  {
   "cell_type": "raw",
   "id": "9038c191",
   "metadata": {},
   "source": [
    "Player Info"
   ]
  },
  {
   "cell_type": "code",
   "execution_count": 64,
   "id": "687ee5be",
   "metadata": {},
   "outputs": [
    {
     "data": {
      "text/html": [
       "<div>\n",
       "<style scoped>\n",
       "    .dataframe tbody tr th:only-of-type {\n",
       "        vertical-align: middle;\n",
       "    }\n",
       "\n",
       "    .dataframe tbody tr th {\n",
       "        vertical-align: top;\n",
       "    }\n",
       "\n",
       "    .dataframe thead th {\n",
       "        text-align: right;\n",
       "    }\n",
       "</style>\n",
       "<table border=\"1\" class=\"dataframe\">\n",
       "  <thead>\n",
       "    <tr style=\"text-align: right;\">\n",
       "      <th></th>\n",
       "      <th>name</th>\n",
       "      <th>team</th>\n",
       "      <th>battingStyle</th>\n",
       "      <th>bowlingStyle</th>\n",
       "      <th>playingRole</th>\n",
       "      <th>description</th>\n",
       "    </tr>\n",
       "  </thead>\n",
       "  <tbody>\n",
       "    <tr>\n",
       "      <th>0</th>\n",
       "      <td>Michael van Lingen</td>\n",
       "      <td>Namibia</td>\n",
       "      <td>Left hand Bat</td>\n",
       "      <td>Left arm Medium</td>\n",
       "      <td>Bowling Allrounder</td>\n",
       "      <td></td>\n",
       "    </tr>\n",
       "    <tr>\n",
       "      <th>1</th>\n",
       "      <td>Divan la Cock</td>\n",
       "      <td>Namibia</td>\n",
       "      <td>Right hand Bat</td>\n",
       "      <td>Legbreak</td>\n",
       "      <td>Opening Batter</td>\n",
       "      <td></td>\n",
       "    </tr>\n",
       "    <tr>\n",
       "      <th>2</th>\n",
       "      <td>Jan Nicol Loftie-Eaton</td>\n",
       "      <td>Namibia</td>\n",
       "      <td>Left hand Bat</td>\n",
       "      <td>Right arm Medium, Legbreak</td>\n",
       "      <td>Batter</td>\n",
       "      <td></td>\n",
       "    </tr>\n",
       "  </tbody>\n",
       "</table>\n",
       "</div>"
      ],
      "text/plain": [
       "                     name     team    battingStyle  \\\n",
       "0      Michael van Lingen  Namibia   Left hand Bat   \n",
       "1           Divan la Cock  Namibia  Right hand Bat   \n",
       "2  Jan Nicol Loftie-Eaton  Namibia   Left hand Bat   \n",
       "\n",
       "                 bowlingStyle         playingRole description  \n",
       "0             Left arm Medium  Bowling Allrounder              \n",
       "1                    Legbreak      Opening Batter              \n",
       "2  Right arm Medium, Legbreak              Batter              "
      ]
     },
     "execution_count": 64,
     "metadata": {},
     "output_type": "execute_result"
    }
   ],
   "source": [
    "df_players = pd.read_json('t20_wc_player_info.json')\n",
    "df_players.head(3)"
   ]
  },
  {
   "cell_type": "markdown",
   "id": "e369d14b",
   "metadata": {},
   "source": [
    "## Normalizing df_batting & df_bowling"
   ]
  },
  {
   "cell_type": "code",
   "execution_count": 65,
   "id": "a3ff52e5",
   "metadata": {},
   "outputs": [],
   "source": [
    "df_match.rename({'scorecard': 'match_id'}, axis = 1, inplace = True)"
   ]
  },
  {
   "cell_type": "markdown",
   "id": "89b7d005",
   "metadata": {},
   "source": [
    "### normalizing 'match' column to a new column  \"match_id\""
   ]
  },
  {
   "cell_type": "code",
   "execution_count": 66,
   "id": "1f3e09e8",
   "metadata": {},
   "outputs": [],
   "source": [
    "match_ids_dict = {}\n",
    "\n",
    "for index, row in df_match.iterrows():\n",
    "    key1 = row['team1'] + ' Vs ' + row['team2']\n",
    "    key2 = row['team2'] + ' Vs ' + row['team1']\n",
    "    \n",
    "    match_ids_dict[key1] = row['match_id']\n",
    "    match_ids_dict[key2] = row['match_id']\n",
    "\n",
    "# match_ids_dict "
   ]
  },
  {
   "cell_type": "code",
   "execution_count": 67,
   "id": "f39c29f2",
   "metadata": {},
   "outputs": [
    {
     "data": {
      "text/html": [
       "<div>\n",
       "<style scoped>\n",
       "    .dataframe tbody tr th:only-of-type {\n",
       "        vertical-align: middle;\n",
       "    }\n",
       "\n",
       "    .dataframe tbody tr th {\n",
       "        vertical-align: top;\n",
       "    }\n",
       "\n",
       "    .dataframe thead th {\n",
       "        text-align: right;\n",
       "    }\n",
       "</style>\n",
       "<table border=\"1\" class=\"dataframe\">\n",
       "  <thead>\n",
       "    <tr style=\"text-align: right;\">\n",
       "      <th></th>\n",
       "      <th>match</th>\n",
       "      <th>teamInnings</th>\n",
       "      <th>battingPos</th>\n",
       "      <th>batsmanName</th>\n",
       "      <th>dismissal</th>\n",
       "      <th>runs</th>\n",
       "      <th>balls</th>\n",
       "      <th>4s</th>\n",
       "      <th>6s</th>\n",
       "      <th>SR</th>\n",
       "      <th>match_id</th>\n",
       "    </tr>\n",
       "  </thead>\n",
       "  <tbody>\n",
       "    <tr>\n",
       "      <th>0</th>\n",
       "      <td>Namibia Vs Sri Lanka</td>\n",
       "      <td>Namibia</td>\n",
       "      <td>1</td>\n",
       "      <td>Michael van Lingen</td>\n",
       "      <td>c Pramod Madushan b Chameera</td>\n",
       "      <td>3</td>\n",
       "      <td>6</td>\n",
       "      <td>0</td>\n",
       "      <td>0</td>\n",
       "      <td>50.00</td>\n",
       "      <td>T20I # 1823</td>\n",
       "    </tr>\n",
       "    <tr>\n",
       "      <th>1</th>\n",
       "      <td>Namibia Vs Sri Lanka</td>\n",
       "      <td>Namibia</td>\n",
       "      <td>2</td>\n",
       "      <td>Divan la Cock</td>\n",
       "      <td>c Shanaka b Pramod Madushan</td>\n",
       "      <td>9</td>\n",
       "      <td>9</td>\n",
       "      <td>1</td>\n",
       "      <td>0</td>\n",
       "      <td>100.00</td>\n",
       "      <td>T20I # 1823</td>\n",
       "    </tr>\n",
       "    <tr>\n",
       "      <th>2</th>\n",
       "      <td>Namibia Vs Sri Lanka</td>\n",
       "      <td>Namibia</td>\n",
       "      <td>3</td>\n",
       "      <td>Jan Nicol Loftie-Eaton</td>\n",
       "      <td>c â€ Mendis b Karunaratne</td>\n",
       "      <td>20</td>\n",
       "      <td>12</td>\n",
       "      <td>1</td>\n",
       "      <td>2</td>\n",
       "      <td>166.66</td>\n",
       "      <td>T20I # 1823</td>\n",
       "    </tr>\n",
       "  </tbody>\n",
       "</table>\n",
       "</div>"
      ],
      "text/plain": [
       "                  match teamInnings  battingPos             batsmanName  \\\n",
       "0  Namibia Vs Sri Lanka     Namibia           1      Michael van Lingen   \n",
       "1  Namibia Vs Sri Lanka     Namibia           2           Divan la Cock   \n",
       "2  Namibia Vs Sri Lanka     Namibia           3  Jan Nicol Loftie-Eaton   \n",
       "\n",
       "                      dismissal runs balls 4s 6s      SR     match_id  \n",
       "0  c Pramod Madushan b Chameera    3     6  0  0   50.00  T20I # 1823  \n",
       "1   c Shanaka b Pramod Madushan    9     9  1  0  100.00  T20I # 1823  \n",
       "2     c â€ Mendis b Karunaratne   20    12  1  2  166.66  T20I # 1823  "
      ]
     },
     "execution_count": 67,
     "metadata": {},
     "output_type": "execute_result"
    }
   ],
   "source": [
    "df_batting['match_id'] = df_batting['match'].map(match_ids_dict)\n",
    "df_batting.head(3)"
   ]
  },
  {
   "cell_type": "code",
   "execution_count": 68,
   "id": "4a3daeb2",
   "metadata": {
    "scrolled": false
   },
   "outputs": [
    {
     "data": {
      "text/html": [
       "<div>\n",
       "<style scoped>\n",
       "    .dataframe tbody tr th:only-of-type {\n",
       "        vertical-align: middle;\n",
       "    }\n",
       "\n",
       "    .dataframe tbody tr th {\n",
       "        vertical-align: top;\n",
       "    }\n",
       "\n",
       "    .dataframe thead th {\n",
       "        text-align: right;\n",
       "    }\n",
       "</style>\n",
       "<table border=\"1\" class=\"dataframe\">\n",
       "  <thead>\n",
       "    <tr style=\"text-align: right;\">\n",
       "      <th></th>\n",
       "      <th>match</th>\n",
       "      <th>bowlingTeam</th>\n",
       "      <th>bowlerName</th>\n",
       "      <th>overs</th>\n",
       "      <th>maiden</th>\n",
       "      <th>runs</th>\n",
       "      <th>wickets</th>\n",
       "      <th>economy</th>\n",
       "      <th>0s</th>\n",
       "      <th>4s</th>\n",
       "      <th>6s</th>\n",
       "      <th>wides</th>\n",
       "      <th>noBalls</th>\n",
       "      <th>match_id</th>\n",
       "    </tr>\n",
       "  </thead>\n",
       "  <tbody>\n",
       "    <tr>\n",
       "      <th>0</th>\n",
       "      <td>Namibia Vs Sri Lanka</td>\n",
       "      <td>Sri Lanka</td>\n",
       "      <td>Maheesh Theekshana</td>\n",
       "      <td>4</td>\n",
       "      <td>0</td>\n",
       "      <td>23</td>\n",
       "      <td>1</td>\n",
       "      <td>5.75</td>\n",
       "      <td>7</td>\n",
       "      <td>0</td>\n",
       "      <td>0</td>\n",
       "      <td>2</td>\n",
       "      <td>0</td>\n",
       "      <td>T20I # 1823</td>\n",
       "    </tr>\n",
       "    <tr>\n",
       "      <th>1</th>\n",
       "      <td>Namibia Vs Sri Lanka</td>\n",
       "      <td>Sri Lanka</td>\n",
       "      <td>Dushmantha Chameera</td>\n",
       "      <td>4</td>\n",
       "      <td>0</td>\n",
       "      <td>39</td>\n",
       "      <td>1</td>\n",
       "      <td>9.75</td>\n",
       "      <td>6</td>\n",
       "      <td>3</td>\n",
       "      <td>1</td>\n",
       "      <td>2</td>\n",
       "      <td>0</td>\n",
       "      <td>T20I # 1823</td>\n",
       "    </tr>\n",
       "    <tr>\n",
       "      <th>2</th>\n",
       "      <td>Namibia Vs Sri Lanka</td>\n",
       "      <td>Sri Lanka</td>\n",
       "      <td>Pramod Madushan</td>\n",
       "      <td>4</td>\n",
       "      <td>0</td>\n",
       "      <td>37</td>\n",
       "      <td>2</td>\n",
       "      <td>9.25</td>\n",
       "      <td>6</td>\n",
       "      <td>3</td>\n",
       "      <td>1</td>\n",
       "      <td>0</td>\n",
       "      <td>0</td>\n",
       "      <td>T20I # 1823</td>\n",
       "    </tr>\n",
       "  </tbody>\n",
       "</table>\n",
       "</div>"
      ],
      "text/plain": [
       "                  match bowlingTeam           bowlerName overs maiden runs  \\\n",
       "0  Namibia Vs Sri Lanka   Sri Lanka   Maheesh Theekshana     4      0   23   \n",
       "1  Namibia Vs Sri Lanka   Sri Lanka  Dushmantha Chameera     4      0   39   \n",
       "2  Namibia Vs Sri Lanka   Sri Lanka      Pramod Madushan     4      0   37   \n",
       "\n",
       "  wickets economy 0s 4s 6s wides noBalls     match_id  \n",
       "0       1    5.75  7  0  0     2       0  T20I # 1823  \n",
       "1       1    9.75  6  3  1     2       0  T20I # 1823  \n",
       "2       2    9.25  6  3  1     0       0  T20I # 1823  "
      ]
     },
     "execution_count": 68,
     "metadata": {},
     "output_type": "execute_result"
    }
   ],
   "source": [
    "df_bowling['match_id'] = df_batting['match'].map(match_ids_dict)\n",
    "df_bowling.head(3)"
   ]
  },
  {
   "cell_type": "markdown",
   "id": "93860a3e",
   "metadata": {},
   "source": [
    "### Adding out/not_out columns to df_batting "
   ]
  },
  {
   "cell_type": "code",
   "execution_count": 69,
   "id": "5e73d104",
   "metadata": {
    "scrolled": true
   },
   "outputs": [
    {
     "data": {
      "text/html": [
       "<div>\n",
       "<style scoped>\n",
       "    .dataframe tbody tr th:only-of-type {\n",
       "        vertical-align: middle;\n",
       "    }\n",
       "\n",
       "    .dataframe tbody tr th {\n",
       "        vertical-align: top;\n",
       "    }\n",
       "\n",
       "    .dataframe thead th {\n",
       "        text-align: right;\n",
       "    }\n",
       "</style>\n",
       "<table border=\"1\" class=\"dataframe\">\n",
       "  <thead>\n",
       "    <tr style=\"text-align: right;\">\n",
       "      <th></th>\n",
       "      <th>match</th>\n",
       "      <th>teamInnings</th>\n",
       "      <th>battingPos</th>\n",
       "      <th>batsmanName</th>\n",
       "      <th>dismissal</th>\n",
       "      <th>runs</th>\n",
       "      <th>balls</th>\n",
       "      <th>4s</th>\n",
       "      <th>6s</th>\n",
       "      <th>SR</th>\n",
       "      <th>match_id</th>\n",
       "      <th>out/not_out</th>\n",
       "    </tr>\n",
       "  </thead>\n",
       "  <tbody>\n",
       "    <tr>\n",
       "      <th>0</th>\n",
       "      <td>Namibia Vs Sri Lanka</td>\n",
       "      <td>Namibia</td>\n",
       "      <td>1</td>\n",
       "      <td>Michael van Lingen</td>\n",
       "      <td>c Pramod Madushan b Chameera</td>\n",
       "      <td>3</td>\n",
       "      <td>6</td>\n",
       "      <td>0</td>\n",
       "      <td>0</td>\n",
       "      <td>50.00</td>\n",
       "      <td>T20I # 1823</td>\n",
       "      <td>out</td>\n",
       "    </tr>\n",
       "    <tr>\n",
       "      <th>1</th>\n",
       "      <td>Namibia Vs Sri Lanka</td>\n",
       "      <td>Namibia</td>\n",
       "      <td>2</td>\n",
       "      <td>Divan la Cock</td>\n",
       "      <td>c Shanaka b Pramod Madushan</td>\n",
       "      <td>9</td>\n",
       "      <td>9</td>\n",
       "      <td>1</td>\n",
       "      <td>0</td>\n",
       "      <td>100.00</td>\n",
       "      <td>T20I # 1823</td>\n",
       "      <td>out</td>\n",
       "    </tr>\n",
       "    <tr>\n",
       "      <th>2</th>\n",
       "      <td>Namibia Vs Sri Lanka</td>\n",
       "      <td>Namibia</td>\n",
       "      <td>3</td>\n",
       "      <td>Jan Nicol Loftie-Eaton</td>\n",
       "      <td>c â€ Mendis b Karunaratne</td>\n",
       "      <td>20</td>\n",
       "      <td>12</td>\n",
       "      <td>1</td>\n",
       "      <td>2</td>\n",
       "      <td>166.66</td>\n",
       "      <td>T20I # 1823</td>\n",
       "      <td>out</td>\n",
       "    </tr>\n",
       "    <tr>\n",
       "      <th>3</th>\n",
       "      <td>Namibia Vs Sri Lanka</td>\n",
       "      <td>Namibia</td>\n",
       "      <td>4</td>\n",
       "      <td>Stephan Baard</td>\n",
       "      <td>c DM de Silva b Pramod Madushan</td>\n",
       "      <td>26</td>\n",
       "      <td>24</td>\n",
       "      <td>2</td>\n",
       "      <td>0</td>\n",
       "      <td>108.33</td>\n",
       "      <td>T20I # 1823</td>\n",
       "      <td>out</td>\n",
       "    </tr>\n",
       "    <tr>\n",
       "      <th>4</th>\n",
       "      <td>Namibia Vs Sri Lanka</td>\n",
       "      <td>Namibia</td>\n",
       "      <td>5</td>\n",
       "      <td>Gerhard Erasmus(c)</td>\n",
       "      <td>c Gunathilaka b PWH de Silva</td>\n",
       "      <td>20</td>\n",
       "      <td>24</td>\n",
       "      <td>0</td>\n",
       "      <td>0</td>\n",
       "      <td>83.33</td>\n",
       "      <td>T20I # 1823</td>\n",
       "      <td>out</td>\n",
       "    </tr>\n",
       "  </tbody>\n",
       "</table>\n",
       "</div>"
      ],
      "text/plain": [
       "                  match teamInnings  battingPos             batsmanName  \\\n",
       "0  Namibia Vs Sri Lanka     Namibia           1      Michael van Lingen   \n",
       "1  Namibia Vs Sri Lanka     Namibia           2           Divan la Cock   \n",
       "2  Namibia Vs Sri Lanka     Namibia           3  Jan Nicol Loftie-Eaton   \n",
       "3  Namibia Vs Sri Lanka     Namibia           4           Stephan Baard   \n",
       "4  Namibia Vs Sri Lanka     Namibia           5      Gerhard Erasmus(c)   \n",
       "\n",
       "                         dismissal runs balls 4s 6s      SR     match_id  \\\n",
       "0     c Pramod Madushan b Chameera    3     6  0  0   50.00  T20I # 1823   \n",
       "1      c Shanaka b Pramod Madushan    9     9  1  0  100.00  T20I # 1823   \n",
       "2        c â€ Mendis b Karunaratne   20    12  1  2  166.66  T20I # 1823   \n",
       "3  c DM de Silva b Pramod Madushan   26    24  2  0  108.33  T20I # 1823   \n",
       "4     c Gunathilaka b PWH de Silva   20    24  0  0   83.33  T20I # 1823   \n",
       "\n",
       "  out/not_out  \n",
       "0         out  \n",
       "1         out  \n",
       "2         out  \n",
       "3         out  \n",
       "4         out  "
      ]
     },
     "execution_count": 69,
     "metadata": {},
     "output_type": "execute_result"
    }
   ],
   "source": [
    "df_batting['out/not_out'] = df_batting.dismissal.apply(lambda x: 'out' if len(x) > 0 else 'not_out')\n",
    "df_batting.head()"
   ]
  },
  {
   "cell_type": "markdown",
   "id": "16daa33c",
   "metadata": {},
   "source": [
    "### Removing Special Characters"
   ]
  },
  {
   "cell_type": "code",
   "execution_count": 70,
   "id": "2032f964",
   "metadata": {},
   "outputs": [],
   "source": [
    "df_batting['batsmanName'] = df_batting['batsmanName'].apply(lambda x: x.replace('â€', ''))\n",
    "df_batting['batsmanName'] = df_batting['batsmanName'].apply(lambda x: x.replace('\\xa0', ''))\n",
    "df_batting['batsmanName'] = df_batting['batsmanName'].apply(lambda x: x.replace('✝', ''))\n",
    "\n",
    "df_batting['dismissal'] = df_batting['dismissal'].apply(lambda x: x.replace('â€', ''))\n",
    "df_batting['dismissal'] = df_batting['dismissal'].apply(lambda x: x.replace('\\xa0', ''))\n",
    "df_batting['dismissal'] = df_batting['dismissal'].apply(lambda x: x.replace('✝', ''))\n",
    "\n",
    "\n",
    "df_bowling['bowlerName'] = df_bowling['bowlerName'].apply(lambda x: x.replace('â€', ''))\n",
    "df_bowling['bowlerName'] = df_bowling['bowlerName'].apply(lambda x: x.replace('\\xa0', ''))\n",
    "df_bowling['bowlerName'] = df_bowling['bowlerName'].apply(lambda x: x.replace('✝', ''))"
   ]
  },
  {
   "cell_type": "markdown",
   "id": "1a0d544f",
   "metadata": {},
   "source": [
    "### Converting  Numerical columns in  df_batting from String to Integers"
   ]
  },
  {
   "cell_type": "markdown",
   "id": "ddf5cbea",
   "metadata": {},
   "source": [
    "##### Converting records with '-' AS df_batting[SR] TO 0:"
   ]
  },
  {
   "cell_type": "code",
   "execution_count": 71,
   "id": "8ca3513a",
   "metadata": {},
   "outputs": [],
   "source": [
    "df_batting['SR'] = df_batting['SR'].apply(lambda x: 0 if x == '-' else x)"
   ]
  },
  {
   "cell_type": "code",
   "execution_count": 72,
   "id": "6985a1ee",
   "metadata": {},
   "outputs": [],
   "source": [
    "df_batting['runs'] = df_batting['runs'].astype(int)\n",
    "df_batting['balls'] = df_batting['balls'].astype(int)\n",
    "df_batting['4s'] = df_batting['4s'].astype(int)\n",
    "df_batting['6s'] = df_batting['6s'].astype(int)\n",
    "df_batting['SR'] = df_batting['SR'].astype(float)"
   ]
  },
  {
   "cell_type": "markdown",
   "id": "c9e76d04",
   "metadata": {},
   "source": [
    "### Converting  Numerical columns in df_bowling from String to Integers"
   ]
  },
  {
   "cell_type": "code",
   "execution_count": 73,
   "id": "28ef21c0",
   "metadata": {},
   "outputs": [],
   "source": [
    "df_bowling['overs'] = df_bowling['overs'].astype(float)\n",
    "df_bowling['maiden'] = df_bowling['maiden'].astype(int)\n",
    "df_bowling['runs'] = df_bowling['runs'].astype(int)\n",
    "df_bowling['wickets'] = df_bowling['wickets'].astype(int)\n",
    "df_bowling['economy'] = df_bowling['economy'].astype(float)\n",
    "df_bowling['0s'] = df_bowling['0s'].astype(int)\n",
    "df_bowling['4s'] = df_bowling['4s'].astype(int)\n",
    "df_bowling['6s'] = df_bowling['6s'].astype(int)\n",
    "df_bowling['wides'] = df_bowling['wides'].astype(int)\n",
    "df_bowling['noBalls'] = df_bowling['noBalls'].astype(int)"
   ]
  },
  {
   "cell_type": "markdown",
   "id": "ebd9d98a",
   "metadata": {},
   "source": [
    "### Export datasets to CSV files for PowerBI"
   ]
  },
  {
   "cell_type": "raw",
   "id": "63b2406e",
   "metadata": {},
   "source": [
    "df_batting.to_csv('t20_csv_files/fact_batting_summary.csv', index = False)\n",
    "df_bowling.to_csv('t20_csv_files/fact_bowlig_summary.csv', index = False)\n",
    "df_match.to_csv('t20_csv_files/dim_match_summary.csv', index = False)"
   ]
  },
  {
   "cell_type": "markdown",
   "id": "a42a7dd1",
   "metadata": {},
   "source": [
    "### Renaming to \"Team\" Columns in df_batting & df_bowling"
   ]
  },
  {
   "cell_type": "code",
   "execution_count": 74,
   "id": "4e478377",
   "metadata": {},
   "outputs": [],
   "source": [
    "df_batting['Team'] = df_batting['teamInnings']  \n",
    "df_bowling['Team'] = df_bowling['bowlingTeam']\n",
    "\n",
    "df_batting = df_batting.drop(['teamInnings'], axis=1)\n",
    "df_bowling = df_bowling.drop(['bowlingTeam'], axis=1)"
   ]
  },
  {
   "cell_type": "markdown",
   "id": "17d19914",
   "metadata": {},
   "source": [
    "### Converting Dates to \"datetime\" Format in df_match"
   ]
  },
  {
   "cell_type": "code",
   "execution_count": 75,
   "id": "06f55b81",
   "metadata": {},
   "outputs": [],
   "source": [
    "df_match['matchDate'] = pd.to_datetime(df_match['matchDate'])"
   ]
  },
  {
   "cell_type": "markdown",
   "id": "7c2c6b3a",
   "metadata": {},
   "source": [
    "### Adding a new Column  - Stage to df_match"
   ]
  },
  {
   "cell_type": "code",
   "execution_count": 76,
   "id": "9e556045",
   "metadata": {},
   "outputs": [],
   "source": [
    "df_match['stage'] = df_match['matchDate'].apply(lambda x: 'Qualifier' if x < pd.Timestamp(2022, 10, 22, 0) else 'stage 12')"
   ]
  },
  {
   "cell_type": "markdown",
   "id": "c6bfd418",
   "metadata": {},
   "source": [
    "### Renaming Columns - 'batsmanName' & 'bowlerName' to 'batsman' & 'bowler':"
   ]
  },
  {
   "cell_type": "code",
   "execution_count": 77,
   "id": "e92f3ca1",
   "metadata": {},
   "outputs": [],
   "source": [
    "df_batting['batsman'] = df_batting['batsmanName']  \n",
    "df_bowling['bowler'] = df_bowling['bowlerName']\n",
    "\n",
    "df_batting = df_batting.drop(['batsmanName'], axis=1)\n",
    "df_bowling = df_bowling.drop(['bowlerName'], axis=1)"
   ]
  },
  {
   "cell_type": "markdown",
   "id": "e7d86296",
   "metadata": {},
   "source": [
    "### Adding Boundaries Column to df_batting"
   ]
  },
  {
   "cell_type": "code",
   "execution_count": 78,
   "id": "3849bf15",
   "metadata": {},
   "outputs": [],
   "source": [
    "df_batting['boundaries'] =  df_batting['4s']*4 + df_batting['6s']*6"
   ]
  },
  {
   "cell_type": "markdown",
   "id": "9718a898",
   "metadata": {},
   "source": [
    "# INSIGHTS"
   ]
  },
  {
   "cell_type": "markdown",
   "id": "e88e4631",
   "metadata": {},
   "source": [
    "### 1) Highest Score by a Batsman"
   ]
  },
  {
   "cell_type": "code",
   "execution_count": 79,
   "id": "8278fc94",
   "metadata": {},
   "outputs": [
    {
     "data": {
      "text/html": [
       "<div>\n",
       "<style scoped>\n",
       "    .dataframe tbody tr th:only-of-type {\n",
       "        vertical-align: middle;\n",
       "    }\n",
       "\n",
       "    .dataframe tbody tr th {\n",
       "        vertical-align: top;\n",
       "    }\n",
       "\n",
       "    .dataframe thead th {\n",
       "        text-align: right;\n",
       "    }\n",
       "</style>\n",
       "<table border=\"1\" class=\"dataframe\">\n",
       "  <thead>\n",
       "    <tr style=\"text-align: right;\">\n",
       "      <th></th>\n",
       "      <th>batsman</th>\n",
       "      <th>match</th>\n",
       "      <th>runs</th>\n",
       "    </tr>\n",
       "  </thead>\n",
       "  <tbody>\n",
       "    <tr>\n",
       "      <th>329</th>\n",
       "      <td>Rilee Rossouw</td>\n",
       "      <td>South Africa Vs Bangladesh</td>\n",
       "      <td>109</td>\n",
       "    </tr>\n",
       "  </tbody>\n",
       "</table>\n",
       "</div>"
      ],
      "text/plain": [
       "           batsman                       match  runs\n",
       "329  Rilee Rossouw  South Africa Vs Bangladesh   109"
      ]
     },
     "execution_count": 79,
     "metadata": {},
     "output_type": "execute_result"
    }
   ],
   "source": [
    "df_batting[['batsman', 'match', 'runs']].sort_values(by = 'runs', ascending = False).head(1)"
   ]
  },
  {
   "cell_type": "markdown",
   "id": "c8d83ae0",
   "metadata": {},
   "source": [
    "### 2) Highest Srike Rate by a Batsman"
   ]
  },
  {
   "cell_type": "code",
   "execution_count": 80,
   "id": "68509a5f",
   "metadata": {},
   "outputs": [
    {
     "data": {
      "text/html": [
       "<div>\n",
       "<style scoped>\n",
       "    .dataframe tbody tr th:only-of-type {\n",
       "        vertical-align: middle;\n",
       "    }\n",
       "\n",
       "    .dataframe tbody tr th {\n",
       "        vertical-align: top;\n",
       "    }\n",
       "\n",
       "    .dataframe thead th {\n",
       "        text-align: right;\n",
       "    }\n",
       "</style>\n",
       "<table border=\"1\" class=\"dataframe\">\n",
       "  <thead>\n",
       "    <tr style=\"text-align: right;\">\n",
       "      <th></th>\n",
       "      <th>match</th>\n",
       "      <th>battingPos</th>\n",
       "      <th>dismissal</th>\n",
       "      <th>runs</th>\n",
       "      <th>balls</th>\n",
       "      <th>4s</th>\n",
       "      <th>6s</th>\n",
       "      <th>SR</th>\n",
       "      <th>match_id</th>\n",
       "      <th>out/not_out</th>\n",
       "      <th>Team</th>\n",
       "      <th>batsman</th>\n",
       "      <th>boundaries</th>\n",
       "    </tr>\n",
       "  </thead>\n",
       "  <tbody>\n",
       "    <tr>\n",
       "      <th>626</th>\n",
       "      <td>Netherlands Vs South Africa</td>\n",
       "      <td>10</td>\n",
       "      <td></td>\n",
       "      <td>4</td>\n",
       "      <td>1</td>\n",
       "      <td>1</td>\n",
       "      <td>0</td>\n",
       "      <td>400.0</td>\n",
       "      <td>T20I # 1871</td>\n",
       "      <td>not_out</td>\n",
       "      <td>South Africa</td>\n",
       "      <td>Anrich Nortje</td>\n",
       "      <td>4</td>\n",
       "    </tr>\n",
       "  </tbody>\n",
       "</table>\n",
       "</div>"
      ],
      "text/plain": [
       "                           match  battingPos dismissal  runs  balls  4s  6s  \\\n",
       "626  Netherlands Vs South Africa          10               4      1   1   0   \n",
       "\n",
       "        SR     match_id out/not_out          Team        batsman  boundaries  \n",
       "626  400.0  T20I # 1871     not_out  South Africa  Anrich Nortje           4  "
      ]
     },
     "execution_count": 80,
     "metadata": {},
     "output_type": "execute_result"
    }
   ],
   "source": [
    "df_batting.sort_values(by = 'SR', ascending = False).head(1)"
   ]
  },
  {
   "cell_type": "markdown",
   "id": "8dc10aca",
   "metadata": {},
   "source": [
    "### 3) Batsman with Highest runs "
   ]
  },
  {
   "cell_type": "code",
   "execution_count": 81,
   "id": "6a9f45b6",
   "metadata": {},
   "outputs": [
    {
     "data": {
      "text/html": [
       "<div>\n",
       "<style scoped>\n",
       "    .dataframe tbody tr th:only-of-type {\n",
       "        vertical-align: middle;\n",
       "    }\n",
       "\n",
       "    .dataframe tbody tr th {\n",
       "        vertical-align: top;\n",
       "    }\n",
       "\n",
       "    .dataframe thead th {\n",
       "        text-align: right;\n",
       "    }\n",
       "</style>\n",
       "<table border=\"1\" class=\"dataframe\">\n",
       "  <thead>\n",
       "    <tr style=\"text-align: right;\">\n",
       "      <th></th>\n",
       "      <th>runs</th>\n",
       "    </tr>\n",
       "    <tr>\n",
       "      <th>batsman</th>\n",
       "      <th></th>\n",
       "    </tr>\n",
       "  </thead>\n",
       "  <tbody>\n",
       "    <tr>\n",
       "      <th>Virat Kohli</th>\n",
       "      <td>296</td>\n",
       "    </tr>\n",
       "  </tbody>\n",
       "</table>\n",
       "</div>"
      ],
      "text/plain": [
       "             runs\n",
       "batsman          \n",
       "Virat Kohli   296"
      ]
     },
     "execution_count": 81,
     "metadata": {},
     "output_type": "execute_result"
    }
   ],
   "source": [
    "df_batting.groupby('batsman')[['runs']].sum('runs').sort_values(by = 'runs', ascending = False).head(1)"
   ]
  },
  {
   "cell_type": "markdown",
   "id": "6ae3657d",
   "metadata": {},
   "source": [
    "### 4) Bowler with Highest Wickets "
   ]
  },
  {
   "cell_type": "code",
   "execution_count": 225,
   "id": "1af26a6e",
   "metadata": {},
   "outputs": [
    {
     "data": {
      "text/html": [
       "<div>\n",
       "<style scoped>\n",
       "    .dataframe tbody tr th:only-of-type {\n",
       "        vertical-align: middle;\n",
       "    }\n",
       "\n",
       "    .dataframe tbody tr th {\n",
       "        vertical-align: top;\n",
       "    }\n",
       "\n",
       "    .dataframe thead th {\n",
       "        text-align: right;\n",
       "    }\n",
       "</style>\n",
       "<table border=\"1\" class=\"dataframe\">\n",
       "  <thead>\n",
       "    <tr style=\"text-align: right;\">\n",
       "      <th></th>\n",
       "      <th>wickets</th>\n",
       "    </tr>\n",
       "    <tr>\n",
       "      <th>bowler</th>\n",
       "      <th></th>\n",
       "    </tr>\n",
       "  </thead>\n",
       "  <tbody>\n",
       "    <tr>\n",
       "      <th>Wanindu Hasaranga de Silva</th>\n",
       "      <td>15</td>\n",
       "    </tr>\n",
       "    <tr>\n",
       "      <th>Bas de Leede</th>\n",
       "      <td>13</td>\n",
       "    </tr>\n",
       "    <tr>\n",
       "      <th>Sam Curran</th>\n",
       "      <td>13</td>\n",
       "    </tr>\n",
       "  </tbody>\n",
       "</table>\n",
       "</div>"
      ],
      "text/plain": [
       "                            wickets\n",
       "bowler                             \n",
       "Wanindu Hasaranga de Silva       15\n",
       "Bas de Leede                     13\n",
       "Sam Curran                       13"
      ]
     },
     "execution_count": 225,
     "metadata": {},
     "output_type": "execute_result"
    }
   ],
   "source": [
    "df_bowling.groupby('bowler')[['wickets']].sum('wickets').sort_values(by = 'wickets', ascending = False).head(3)"
   ]
  },
  {
   "cell_type": "markdown",
   "id": "215ddd87",
   "metadata": {},
   "source": [
    "### 5) Best Batting Figures"
   ]
  },
  {
   "cell_type": "code",
   "execution_count": 83,
   "id": "343aea30",
   "metadata": {},
   "outputs": [
    {
     "data": {
      "text/html": [
       "<div>\n",
       "<style scoped>\n",
       "    .dataframe tbody tr th:only-of-type {\n",
       "        vertical-align: middle;\n",
       "    }\n",
       "\n",
       "    .dataframe tbody tr th {\n",
       "        vertical-align: top;\n",
       "    }\n",
       "\n",
       "    .dataframe thead th {\n",
       "        text-align: right;\n",
       "    }\n",
       "</style>\n",
       "<table border=\"1\" class=\"dataframe\">\n",
       "  <thead>\n",
       "    <tr style=\"text-align: right;\">\n",
       "      <th></th>\n",
       "      <th>match</th>\n",
       "      <th>battingPos</th>\n",
       "      <th>dismissal</th>\n",
       "      <th>runs</th>\n",
       "      <th>balls</th>\n",
       "      <th>4s</th>\n",
       "      <th>6s</th>\n",
       "      <th>SR</th>\n",
       "      <th>match_id</th>\n",
       "      <th>out/not_out</th>\n",
       "      <th>Team</th>\n",
       "      <th>batsman</th>\n",
       "      <th>boundaries</th>\n",
       "    </tr>\n",
       "  </thead>\n",
       "  <tbody>\n",
       "    <tr>\n",
       "      <th>329</th>\n",
       "      <td>South Africa Vs Bangladesh</td>\n",
       "      <td>3</td>\n",
       "      <td>c Litton Das b Shakib Al Hasan</td>\n",
       "      <td>109</td>\n",
       "      <td>56</td>\n",
       "      <td>7</td>\n",
       "      <td>8</td>\n",
       "      <td>194.64</td>\n",
       "      <td>T20I # 1847</td>\n",
       "      <td>out</td>\n",
       "      <td>South Africa</td>\n",
       "      <td>Rilee Rossouw</td>\n",
       "      <td>76</td>\n",
       "    </tr>\n",
       "    <tr>\n",
       "      <th>382</th>\n",
       "      <td>New Zealand Vs Sri Lanka</td>\n",
       "      <td>4</td>\n",
       "      <td>c Shanaka b Kumara</td>\n",
       "      <td>104</td>\n",
       "      <td>64</td>\n",
       "      <td>10</td>\n",
       "      <td>4</td>\n",
       "      <td>162.50</td>\n",
       "      <td>T20I # 1850</td>\n",
       "      <td>out</td>\n",
       "      <td>New Zealand</td>\n",
       "      <td>Glenn Phillips</td>\n",
       "      <td>64</td>\n",
       "    </tr>\n",
       "    <tr>\n",
       "      <th>203</th>\n",
       "      <td>New Zealand Vs Australia</td>\n",
       "      <td>2</td>\n",
       "      <td></td>\n",
       "      <td>92</td>\n",
       "      <td>58</td>\n",
       "      <td>7</td>\n",
       "      <td>2</td>\n",
       "      <td>158.62</td>\n",
       "      <td>T20I # 1839</td>\n",
       "      <td>not_out</td>\n",
       "      <td>New Zealand</td>\n",
       "      <td>Devon Conway</td>\n",
       "      <td>40</td>\n",
       "    </tr>\n",
       "    <tr>\n",
       "      <th>681</th>\n",
       "      <td>India Vs England</td>\n",
       "      <td>2</td>\n",
       "      <td></td>\n",
       "      <td>86</td>\n",
       "      <td>47</td>\n",
       "      <td>4</td>\n",
       "      <td>7</td>\n",
       "      <td>182.97</td>\n",
       "      <td>T20I # 1878</td>\n",
       "      <td>not_out</td>\n",
       "      <td>England</td>\n",
       "      <td>Alex Hales</td>\n",
       "      <td>58</td>\n",
       "    </tr>\n",
       "    <tr>\n",
       "      <th>112</th>\n",
       "      <td>Scotland Vs Ireland</td>\n",
       "      <td>2</td>\n",
       "      <td>c Adair b Little</td>\n",
       "      <td>86</td>\n",
       "      <td>55</td>\n",
       "      <td>6</td>\n",
       "      <td>4</td>\n",
       "      <td>156.36</td>\n",
       "      <td>T20I # 1833</td>\n",
       "      <td>out</td>\n",
       "      <td>Scotland</td>\n",
       "      <td>Michael Jones</td>\n",
       "      <td>48</td>\n",
       "    </tr>\n",
       "    <tr>\n",
       "      <th>60</th>\n",
       "      <td>Zimbabwe Vs Ireland</td>\n",
       "      <td>5</td>\n",
       "      <td>b Adair</td>\n",
       "      <td>82</td>\n",
       "      <td>48</td>\n",
       "      <td>5</td>\n",
       "      <td>5</td>\n",
       "      <td>170.83</td>\n",
       "      <td>T20I # 1828</td>\n",
       "      <td>out</td>\n",
       "      <td>Zimbabwe</td>\n",
       "      <td>Sikandar Raza</td>\n",
       "      <td>50</td>\n",
       "    </tr>\n",
       "    <tr>\n",
       "      <th>261</th>\n",
       "      <td>Pakistan Vs India</td>\n",
       "      <td>3</td>\n",
       "      <td></td>\n",
       "      <td>82</td>\n",
       "      <td>53</td>\n",
       "      <td>6</td>\n",
       "      <td>4</td>\n",
       "      <td>154.71</td>\n",
       "      <td>T20I # 1842</td>\n",
       "      <td>not_out</td>\n",
       "      <td>India</td>\n",
       "      <td>Virat Kohli</td>\n",
       "      <td>48</td>\n",
       "    </tr>\n",
       "    <tr>\n",
       "      <th>680</th>\n",
       "      <td>India Vs England</td>\n",
       "      <td>1</td>\n",
       "      <td></td>\n",
       "      <td>80</td>\n",
       "      <td>49</td>\n",
       "      <td>9</td>\n",
       "      <td>3</td>\n",
       "      <td>163.26</td>\n",
       "      <td>T20I # 1878</td>\n",
       "      <td>not_out</td>\n",
       "      <td>England</td>\n",
       "      <td>Jos Buttler(c)</td>\n",
       "      <td>54</td>\n",
       "    </tr>\n",
       "    <tr>\n",
       "      <th>144</th>\n",
       "      <td>Sri Lanka Vs Netherlands</td>\n",
       "      <td>2</td>\n",
       "      <td>c sub (LV van Beek) b van der Gugten</td>\n",
       "      <td>79</td>\n",
       "      <td>44</td>\n",
       "      <td>5</td>\n",
       "      <td>5</td>\n",
       "      <td>179.54</td>\n",
       "      <td>T20I # 1835</td>\n",
       "      <td>out</td>\n",
       "      <td>Sri Lanka</td>\n",
       "      <td>Kusal Mendis</td>\n",
       "      <td>50</td>\n",
       "    </tr>\n",
       "    <tr>\n",
       "      <th>90</th>\n",
       "      <td>Sri Lanka Vs U.A.E.</td>\n",
       "      <td>1</td>\n",
       "      <td>c Basil Hameed b Zahoor Khan</td>\n",
       "      <td>74</td>\n",
       "      <td>60</td>\n",
       "      <td>6</td>\n",
       "      <td>2</td>\n",
       "      <td>123.33</td>\n",
       "      <td>T20I # 1832</td>\n",
       "      <td>out</td>\n",
       "      <td>Sri Lanka</td>\n",
       "      <td>Pathum Nissanka</td>\n",
       "      <td>36</td>\n",
       "    </tr>\n",
       "  </tbody>\n",
       "</table>\n",
       "</div>"
      ],
      "text/plain": [
       "                          match  battingPos  \\\n",
       "329  South Africa Vs Bangladesh           3   \n",
       "382    New Zealand Vs Sri Lanka           4   \n",
       "203    New Zealand Vs Australia           2   \n",
       "681            India Vs England           2   \n",
       "112         Scotland Vs Ireland           2   \n",
       "60          Zimbabwe Vs Ireland           5   \n",
       "261           Pakistan Vs India           3   \n",
       "680            India Vs England           1   \n",
       "144    Sri Lanka Vs Netherlands           2   \n",
       "90          Sri Lanka Vs U.A.E.           1   \n",
       "\n",
       "                                dismissal  runs  balls  4s  6s      SR  \\\n",
       "329        c Litton Das b Shakib Al Hasan   109     56   7   8  194.64   \n",
       "382                    c Shanaka b Kumara   104     64  10   4  162.50   \n",
       "203                                          92     58   7   2  158.62   \n",
       "681                                          86     47   4   7  182.97   \n",
       "112                      c Adair b Little    86     55   6   4  156.36   \n",
       "60                                b Adair    82     48   5   5  170.83   \n",
       "261                                          82     53   6   4  154.71   \n",
       "680                                          80     49   9   3  163.26   \n",
       "144  c sub (LV van Beek) b van der Gugten    79     44   5   5  179.54   \n",
       "90           c Basil Hameed b Zahoor Khan    74     60   6   2  123.33   \n",
       "\n",
       "        match_id out/not_out          Team          batsman  boundaries  \n",
       "329  T20I # 1847         out  South Africa    Rilee Rossouw          76  \n",
       "382  T20I # 1850         out   New Zealand   Glenn Phillips          64  \n",
       "203  T20I # 1839     not_out   New Zealand     Devon Conway          40  \n",
       "681  T20I # 1878     not_out       England       Alex Hales          58  \n",
       "112  T20I # 1833         out      Scotland    Michael Jones          48  \n",
       "60   T20I # 1828         out      Zimbabwe    Sikandar Raza          50  \n",
       "261  T20I # 1842     not_out         India      Virat Kohli          48  \n",
       "680  T20I # 1878     not_out       England   Jos Buttler(c)          54  \n",
       "144  T20I # 1835         out     Sri Lanka     Kusal Mendis          50  \n",
       "90   T20I # 1832         out     Sri Lanka  Pathum Nissanka          36  "
      ]
     },
     "execution_count": 83,
     "metadata": {},
     "output_type": "execute_result"
    }
   ],
   "source": [
    "df_batting.sort_values(by = ['runs', 'SR'], ascending = [False, False]).head(10)"
   ]
  },
  {
   "cell_type": "markdown",
   "id": "779b1f2b",
   "metadata": {},
   "source": [
    "### 6) Best Bowling Figures"
   ]
  },
  {
   "cell_type": "code",
   "execution_count": 84,
   "id": "d8b60b21",
   "metadata": {},
   "outputs": [
    {
     "data": {
      "text/html": [
       "<div>\n",
       "<style scoped>\n",
       "    .dataframe tbody tr th:only-of-type {\n",
       "        vertical-align: middle;\n",
       "    }\n",
       "\n",
       "    .dataframe tbody tr th {\n",
       "        vertical-align: top;\n",
       "    }\n",
       "\n",
       "    .dataframe thead th {\n",
       "        text-align: right;\n",
       "    }\n",
       "</style>\n",
       "<table border=\"1\" class=\"dataframe\">\n",
       "  <thead>\n",
       "    <tr style=\"text-align: right;\">\n",
       "      <th></th>\n",
       "      <th>match</th>\n",
       "      <th>overs</th>\n",
       "      <th>maiden</th>\n",
       "      <th>runs</th>\n",
       "      <th>wickets</th>\n",
       "      <th>economy</th>\n",
       "      <th>0s</th>\n",
       "      <th>4s</th>\n",
       "      <th>6s</th>\n",
       "      <th>wides</th>\n",
       "      <th>noBalls</th>\n",
       "      <th>match_id</th>\n",
       "      <th>Team</th>\n",
       "      <th>bowler</th>\n",
       "    </tr>\n",
       "  </thead>\n",
       "  <tbody>\n",
       "    <tr>\n",
       "      <th>72</th>\n",
       "      <td>Sri Lanka Vs U.A.E.</td>\n",
       "      <td>4.0</td>\n",
       "      <td>1</td>\n",
       "      <td>8</td>\n",
       "      <td>3</td>\n",
       "      <td>2.00</td>\n",
       "      <td>17</td>\n",
       "      <td>0</td>\n",
       "      <td>0</td>\n",
       "      <td>0</td>\n",
       "      <td>0</td>\n",
       "      <td>T20I # 1828</td>\n",
       "      <td>Sri Lanka</td>\n",
       "      <td>Wanindu Hasaranga de Silva</td>\n",
       "    </tr>\n",
       "    <tr>\n",
       "      <th>431</th>\n",
       "      <td>Netherlands Vs South Africa</td>\n",
       "      <td>4.0</td>\n",
       "      <td>0</td>\n",
       "      <td>10</td>\n",
       "      <td>1</td>\n",
       "      <td>2.50</td>\n",
       "      <td>14</td>\n",
       "      <td>0</td>\n",
       "      <td>0</td>\n",
       "      <td>0</td>\n",
       "      <td>0</td>\n",
       "      <td>T20I # 1852</td>\n",
       "      <td>South Africa</td>\n",
       "      <td>Anrich Nortje</td>\n",
       "    </tr>\n",
       "    <tr>\n",
       "      <th>161</th>\n",
       "      <td>Afghanistan Vs England</td>\n",
       "      <td>3.4</td>\n",
       "      <td>0</td>\n",
       "      <td>10</td>\n",
       "      <td>5</td>\n",
       "      <td>2.72</td>\n",
       "      <td>16</td>\n",
       "      <td>1</td>\n",
       "      <td>0</td>\n",
       "      <td>1</td>\n",
       "      <td>0</td>\n",
       "      <td>T20I # 1835</td>\n",
       "      <td>England</td>\n",
       "      <td>Sam Curran</td>\n",
       "    </tr>\n",
       "    <tr>\n",
       "      <th>21</th>\n",
       "      <td>U.A.E. Vs Netherlands</td>\n",
       "      <td>4.0</td>\n",
       "      <td>0</td>\n",
       "      <td>11</td>\n",
       "      <td>1</td>\n",
       "      <td>2.75</td>\n",
       "      <td>14</td>\n",
       "      <td>0</td>\n",
       "      <td>0</td>\n",
       "      <td>0</td>\n",
       "      <td>0</td>\n",
       "      <td>T20I # 1825</td>\n",
       "      <td>U.A.E.</td>\n",
       "      <td>Zahoor Khan</td>\n",
       "    </tr>\n",
       "    <tr>\n",
       "      <th>299</th>\n",
       "      <td>Netherlands Vs Pakistan</td>\n",
       "      <td>4.0</td>\n",
       "      <td>0</td>\n",
       "      <td>11</td>\n",
       "      <td>1</td>\n",
       "      <td>2.75</td>\n",
       "      <td>15</td>\n",
       "      <td>0</td>\n",
       "      <td>0</td>\n",
       "      <td>0</td>\n",
       "      <td>0</td>\n",
       "      <td>T20I # 1845</td>\n",
       "      <td>Pakistan</td>\n",
       "      <td>Naseem Shah</td>\n",
       "    </tr>\n",
       "    <tr>\n",
       "      <th>248</th>\n",
       "      <td>South Africa Vs Bangladesh</td>\n",
       "      <td>3.3</td>\n",
       "      <td>0</td>\n",
       "      <td>10</td>\n",
       "      <td>4</td>\n",
       "      <td>2.85</td>\n",
       "      <td>16</td>\n",
       "      <td>1</td>\n",
       "      <td>0</td>\n",
       "      <td>0</td>\n",
       "      <td>0</td>\n",
       "      <td>T20I # 1841</td>\n",
       "      <td>South Africa</td>\n",
       "      <td>Anrich Nortje</td>\n",
       "    </tr>\n",
       "    <tr>\n",
       "      <th>30</th>\n",
       "      <td>Scotland Vs West Indies</td>\n",
       "      <td>4.0</td>\n",
       "      <td>0</td>\n",
       "      <td>12</td>\n",
       "      <td>3</td>\n",
       "      <td>3.00</td>\n",
       "      <td>16</td>\n",
       "      <td>1</td>\n",
       "      <td>0</td>\n",
       "      <td>1</td>\n",
       "      <td>0</td>\n",
       "      <td>T20I # 1825</td>\n",
       "      <td>Scotland</td>\n",
       "      <td>Mark Watt</td>\n",
       "    </tr>\n",
       "    <tr>\n",
       "      <th>490</th>\n",
       "      <td>Pakistan Vs England</td>\n",
       "      <td>4.0</td>\n",
       "      <td>0</td>\n",
       "      <td>12</td>\n",
       "      <td>3</td>\n",
       "      <td>3.00</td>\n",
       "      <td>15</td>\n",
       "      <td>0</td>\n",
       "      <td>0</td>\n",
       "      <td>0</td>\n",
       "      <td>0</td>\n",
       "      <td>T20I # 1858</td>\n",
       "      <td>England</td>\n",
       "      <td>Sam Curran</td>\n",
       "    </tr>\n",
       "    <tr>\n",
       "      <th>257</th>\n",
       "      <td>India Vs Netherlands</td>\n",
       "      <td>3.0</td>\n",
       "      <td>2</td>\n",
       "      <td>9</td>\n",
       "      <td>2</td>\n",
       "      <td>3.00</td>\n",
       "      <td>14</td>\n",
       "      <td>1</td>\n",
       "      <td>0</td>\n",
       "      <td>0</td>\n",
       "      <td>0</td>\n",
       "      <td>T20I # 1842</td>\n",
       "      <td>India</td>\n",
       "      <td>Bhuvneshwar Kumar</td>\n",
       "    </tr>\n",
       "    <tr>\n",
       "      <th>266</th>\n",
       "      <td>Zimbabwe Vs Pakistan</td>\n",
       "      <td>4.0</td>\n",
       "      <td>1</td>\n",
       "      <td>12</td>\n",
       "      <td>1</td>\n",
       "      <td>3.00</td>\n",
       "      <td>15</td>\n",
       "      <td>0</td>\n",
       "      <td>0</td>\n",
       "      <td>0</td>\n",
       "      <td>0</td>\n",
       "      <td>T20I # 1842</td>\n",
       "      <td>Pakistan</td>\n",
       "      <td>Haris Rauf</td>\n",
       "    </tr>\n",
       "  </tbody>\n",
       "</table>\n",
       "</div>"
      ],
      "text/plain": [
       "                           match  overs  maiden  runs  wickets  economy  0s  \\\n",
       "72           Sri Lanka Vs U.A.E.    4.0       1     8        3     2.00  17   \n",
       "431  Netherlands Vs South Africa    4.0       0    10        1     2.50  14   \n",
       "161       Afghanistan Vs England    3.4       0    10        5     2.72  16   \n",
       "21         U.A.E. Vs Netherlands    4.0       0    11        1     2.75  14   \n",
       "299      Netherlands Vs Pakistan    4.0       0    11        1     2.75  15   \n",
       "248   South Africa Vs Bangladesh    3.3       0    10        4     2.85  16   \n",
       "30       Scotland Vs West Indies    4.0       0    12        3     3.00  16   \n",
       "490          Pakistan Vs England    4.0       0    12        3     3.00  15   \n",
       "257         India Vs Netherlands    3.0       2     9        2     3.00  14   \n",
       "266         Zimbabwe Vs Pakistan    4.0       1    12        1     3.00  15   \n",
       "\n",
       "     4s  6s  wides  noBalls     match_id          Team  \\\n",
       "72    0   0      0        0  T20I # 1828     Sri Lanka   \n",
       "431   0   0      0        0  T20I # 1852  South Africa   \n",
       "161   1   0      1        0  T20I # 1835       England   \n",
       "21    0   0      0        0  T20I # 1825        U.A.E.   \n",
       "299   0   0      0        0  T20I # 1845      Pakistan   \n",
       "248   1   0      0        0  T20I # 1841  South Africa   \n",
       "30    1   0      1        0  T20I # 1825      Scotland   \n",
       "490   0   0      0        0  T20I # 1858       England   \n",
       "257   1   0      0        0  T20I # 1842         India   \n",
       "266   0   0      0        0  T20I # 1842      Pakistan   \n",
       "\n",
       "                         bowler  \n",
       "72   Wanindu Hasaranga de Silva  \n",
       "431               Anrich Nortje  \n",
       "161                  Sam Curran  \n",
       "21                  Zahoor Khan  \n",
       "299                 Naseem Shah  \n",
       "248               Anrich Nortje  \n",
       "30                    Mark Watt  \n",
       "490                  Sam Curran  \n",
       "257           Bhuvneshwar Kumar  \n",
       "266                  Haris Rauf  "
      ]
     },
     "execution_count": 84,
     "metadata": {},
     "output_type": "execute_result"
    }
   ],
   "source": [
    "df_bowling[df_bowling['overs'] >= 3].sort_values(by = ['economy', 'wickets'], ascending = [True, False]).head(10)"
   ]
  },
  {
   "cell_type": "markdown",
   "id": "1dfad6b8",
   "metadata": {},
   "source": [
    "### 7) Batsmen with highest boundary Runs "
   ]
  },
  {
   "cell_type": "code",
   "execution_count": 85,
   "id": "e052158c",
   "metadata": {},
   "outputs": [
    {
     "data": {
      "text/html": [
       "<div>\n",
       "<style scoped>\n",
       "    .dataframe tbody tr th:only-of-type {\n",
       "        vertical-align: middle;\n",
       "    }\n",
       "\n",
       "    .dataframe tbody tr th {\n",
       "        vertical-align: top;\n",
       "    }\n",
       "\n",
       "    .dataframe thead th {\n",
       "        text-align: right;\n",
       "    }\n",
       "</style>\n",
       "<table border=\"1\" class=\"dataframe\">\n",
       "  <thead>\n",
       "    <tr style=\"text-align: right;\">\n",
       "      <th></th>\n",
       "      <th>4s</th>\n",
       "      <th>6s</th>\n",
       "      <th>SR</th>\n",
       "      <th>boundaries</th>\n",
       "    </tr>\n",
       "    <tr>\n",
       "      <th>batsman</th>\n",
       "      <th></th>\n",
       "      <th></th>\n",
       "      <th></th>\n",
       "      <th></th>\n",
       "    </tr>\n",
       "  </thead>\n",
       "  <tbody>\n",
       "    <tr>\n",
       "      <th>Suryakumar Yadav</th>\n",
       "      <td>26</td>\n",
       "      <td>9</td>\n",
       "      <td>1095.50</td>\n",
       "      <td>158</td>\n",
       "    </tr>\n",
       "    <tr>\n",
       "      <th>Virat Kohli</th>\n",
       "      <td>25</td>\n",
       "      <td>8</td>\n",
       "      <td>779.15</td>\n",
       "      <td>148</td>\n",
       "    </tr>\n",
       "    <tr>\n",
       "      <th>Jos Buttler(c)</th>\n",
       "      <td>24</td>\n",
       "      <td>7</td>\n",
       "      <td>693.24</td>\n",
       "      <td>138</td>\n",
       "    </tr>\n",
       "    <tr>\n",
       "      <th>Max O'Dowd</th>\n",
       "      <td>22</td>\n",
       "      <td>8</td>\n",
       "      <td>887.43</td>\n",
       "      <td>136</td>\n",
       "    </tr>\n",
       "    <tr>\n",
       "      <th>Alex Hales</th>\n",
       "      <td>19</td>\n",
       "      <td>10</td>\n",
       "      <td>754.63</td>\n",
       "      <td>136</td>\n",
       "    </tr>\n",
       "  </tbody>\n",
       "</table>\n",
       "</div>"
      ],
      "text/plain": [
       "                  4s  6s       SR  boundaries\n",
       "batsman                                      \n",
       "Suryakumar Yadav  26   9  1095.50         158\n",
       "Virat Kohli       25   8   779.15         148\n",
       "Jos Buttler(c)    24   7   693.24         138\n",
       "Max O'Dowd        22   8   887.43         136\n",
       "Alex Hales        19  10   754.63         136"
      ]
     },
     "execution_count": 85,
     "metadata": {},
     "output_type": "execute_result"
    }
   ],
   "source": [
    "df_batting.groupby('batsman')[['4s', '6s', 'SR','boundaries']].sum('boundaries').sort_values(by = ['boundaries', 'SR'], ascending = [False, False]).head(5)"
   ]
  },
  {
   "cell_type": "markdown",
   "id": "d2dc4bda",
   "metadata": {},
   "source": [
    "### 8) Most Expensive Bowlers "
   ]
  },
  {
   "cell_type": "code",
   "execution_count": 86,
   "id": "279a189d",
   "metadata": {},
   "outputs": [
    {
     "data": {
      "text/html": [
       "<div>\n",
       "<style scoped>\n",
       "    .dataframe tbody tr th:only-of-type {\n",
       "        vertical-align: middle;\n",
       "    }\n",
       "\n",
       "    .dataframe tbody tr th {\n",
       "        vertical-align: top;\n",
       "    }\n",
       "\n",
       "    .dataframe thead th {\n",
       "        text-align: right;\n",
       "    }\n",
       "</style>\n",
       "<table border=\"1\" class=\"dataframe\">\n",
       "  <thead>\n",
       "    <tr style=\"text-align: right;\">\n",
       "      <th></th>\n",
       "      <th>avg_runs_per_over</th>\n",
       "    </tr>\n",
       "    <tr>\n",
       "      <th>bowler</th>\n",
       "      <th></th>\n",
       "    </tr>\n",
       "  </thead>\n",
       "  <tbody>\n",
       "    <tr>\n",
       "      <th>Iftikhar Ahmed</th>\n",
       "      <td>15.50</td>\n",
       "    </tr>\n",
       "    <tr>\n",
       "      <th>Kyle Mayers</th>\n",
       "      <td>14.50</td>\n",
       "    </tr>\n",
       "    <tr>\n",
       "      <th>Shoriful Islam</th>\n",
       "      <td>14.25</td>\n",
       "    </tr>\n",
       "    <tr>\n",
       "      <th>Mitchell Marsh</th>\n",
       "      <td>14.00</td>\n",
       "    </tr>\n",
       "    <tr>\n",
       "      <th>Kane Richardson</th>\n",
       "      <td>12.00</td>\n",
       "    </tr>\n",
       "  </tbody>\n",
       "</table>\n",
       "</div>"
      ],
      "text/plain": [
       "                 avg_runs_per_over\n",
       "bowler                            \n",
       "Iftikhar Ahmed               15.50\n",
       "Kyle Mayers                  14.50\n",
       "Shoriful Islam               14.25\n",
       "Mitchell Marsh               14.00\n",
       "Kane Richardson              12.00"
      ]
     },
     "execution_count": 86,
     "metadata": {},
     "output_type": "execute_result"
    }
   ],
   "source": [
    "df_temp = pd.DataFrame()\n",
    "df_temp['avg_runs_per_over'] = df_bowling['runs']/df_bowling['overs']\n",
    "df_temp['bowler'] = df_bowling['bowler']\n",
    "\n",
    "expensive_bowlers = df_temp.groupby('bowler')[['avg_runs_per_over']].mean('avg_runs_per_over').sort_values(by = 'avg_runs_per_over', ascending = False)\n",
    "expensive_bowlers.head(5)"
   ]
  },
  {
   "cell_type": "markdown",
   "id": "acd1bf34",
   "metadata": {},
   "source": [
    "### 9) Bowlers wickets per over"
   ]
  },
  {
   "cell_type": "code",
   "execution_count": 87,
   "id": "b948b74c",
   "metadata": {},
   "outputs": [
    {
     "data": {
      "text/html": [
       "<div>\n",
       "<style scoped>\n",
       "    .dataframe tbody tr th:only-of-type {\n",
       "        vertical-align: middle;\n",
       "    }\n",
       "\n",
       "    .dataframe tbody tr th {\n",
       "        vertical-align: top;\n",
       "    }\n",
       "\n",
       "    .dataframe thead th {\n",
       "        text-align: right;\n",
       "    }\n",
       "</style>\n",
       "<table border=\"1\" class=\"dataframe\">\n",
       "  <thead>\n",
       "    <tr style=\"text-align: right;\">\n",
       "      <th></th>\n",
       "      <th>wickets_per_over</th>\n",
       "    </tr>\n",
       "    <tr>\n",
       "      <th>bowler</th>\n",
       "      <th></th>\n",
       "    </tr>\n",
       "  </thead>\n",
       "  <tbody>\n",
       "    <tr>\n",
       "      <th>Afif Hossain</th>\n",
       "      <td>1.000000</td>\n",
       "    </tr>\n",
       "    <tr>\n",
       "      <th>Glenn Maxwell</th>\n",
       "      <td>0.976190</td>\n",
       "    </tr>\n",
       "    <tr>\n",
       "      <th>Brandon Glover</th>\n",
       "      <td>0.933333</td>\n",
       "    </tr>\n",
       "    <tr>\n",
       "      <th>Naveen-ul-Haq</th>\n",
       "      <td>0.750000</td>\n",
       "    </tr>\n",
       "    <tr>\n",
       "      <th>Mark Wood</th>\n",
       "      <td>0.645833</td>\n",
       "    </tr>\n",
       "    <tr>\n",
       "      <th>Anrich Nortje</th>\n",
       "      <td>0.642424</td>\n",
       "    </tr>\n",
       "    <tr>\n",
       "      <th>Chris Jordan</th>\n",
       "      <td>0.625000</td>\n",
       "    </tr>\n",
       "    <tr>\n",
       "      <th>Sam Curran</th>\n",
       "      <td>0.606209</td>\n",
       "    </tr>\n",
       "    <tr>\n",
       "      <th>Bas de Leede</th>\n",
       "      <td>0.595238</td>\n",
       "    </tr>\n",
       "    <tr>\n",
       "      <th>Lungi Ngidi</th>\n",
       "      <td>0.562500</td>\n",
       "    </tr>\n",
       "  </tbody>\n",
       "</table>\n",
       "</div>"
      ],
      "text/plain": [
       "                wickets_per_over\n",
       "bowler                          \n",
       "Afif Hossain            1.000000\n",
       "Glenn Maxwell           0.976190\n",
       "Brandon Glover          0.933333\n",
       "Naveen-ul-Haq           0.750000\n",
       "Mark Wood               0.645833\n",
       "Anrich Nortje           0.642424\n",
       "Chris Jordan            0.625000\n",
       "Sam Curran              0.606209\n",
       "Bas de Leede            0.595238\n",
       "Lungi Ngidi             0.562500"
      ]
     },
     "execution_count": 87,
     "metadata": {},
     "output_type": "execute_result"
    }
   ],
   "source": [
    "df_temp1 = pd.DataFrame()\n",
    "df_temp1['wickets_per_over'] = df_bowling['wickets']/df_bowling['overs']\n",
    "df_temp1['bowler'] = df_bowling['bowler']\n",
    "\n",
    "wickets_per_over = df_temp1.groupby('bowler')[['wickets_per_over']].mean('wickets_per_over').sort_values(by = 'wickets_per_over', ascending = False)\n",
    "wickets_per_over.head(10)"
   ]
  },
  {
   "cell_type": "markdown",
   "id": "460dade7",
   "metadata": {},
   "source": [
    "### 10) India's Win Ratio in Melbourne Ground"
   ]
  },
  {
   "cell_type": "code",
   "execution_count": 88,
   "id": "72c05e3b",
   "metadata": {},
   "outputs": [],
   "source": [
    "df_india_matches = df_match[(df_match['team1'] == 'India') | (df_match['team2'] == 'India')]"
   ]
  },
  {
   "cell_type": "code",
   "execution_count": 89,
   "id": "7f2f71a2",
   "metadata": {},
   "outputs": [
    {
     "data": {
      "text/html": [
       "<div>\n",
       "<style scoped>\n",
       "    .dataframe tbody tr th:only-of-type {\n",
       "        vertical-align: middle;\n",
       "    }\n",
       "\n",
       "    .dataframe tbody tr th {\n",
       "        vertical-align: top;\n",
       "    }\n",
       "\n",
       "    .dataframe thead th {\n",
       "        text-align: right;\n",
       "    }\n",
       "</style>\n",
       "<table border=\"1\" class=\"dataframe\">\n",
       "  <thead>\n",
       "    <tr style=\"text-align: right;\">\n",
       "      <th></th>\n",
       "      <th>team1</th>\n",
       "      <th>team2</th>\n",
       "      <th>winner</th>\n",
       "      <th>margin</th>\n",
       "      <th>ground</th>\n",
       "      <th>matchDate</th>\n",
       "      <th>match_id</th>\n",
       "      <th>stage</th>\n",
       "    </tr>\n",
       "  </thead>\n",
       "  <tbody>\n",
       "    <tr>\n",
       "      <th>15</th>\n",
       "      <td>India</td>\n",
       "      <td>Pakistan</td>\n",
       "      <td>India</td>\n",
       "      <td>4 wickets</td>\n",
       "      <td>Melbourne</td>\n",
       "      <td>2022-10-23</td>\n",
       "      <td>T20I # 1842</td>\n",
       "      <td>stage 12</td>\n",
       "    </tr>\n",
       "    <tr>\n",
       "      <th>41</th>\n",
       "      <td>India</td>\n",
       "      <td>Zimbabwe</td>\n",
       "      <td>India</td>\n",
       "      <td>71 runs</td>\n",
       "      <td>Melbourne</td>\n",
       "      <td>2022-11-06</td>\n",
       "      <td>T20I # 1873</td>\n",
       "      <td>stage 12</td>\n",
       "    </tr>\n",
       "  </tbody>\n",
       "</table>\n",
       "</div>"
      ],
      "text/plain": [
       "    team1     team2 winner     margin     ground  matchDate     match_id  \\\n",
       "15  India  Pakistan  India  4 wickets  Melbourne 2022-10-23  T20I # 1842   \n",
       "41  India  Zimbabwe  India    71 runs  Melbourne 2022-11-06  T20I # 1873   \n",
       "\n",
       "       stage  \n",
       "15  stage 12  \n",
       "41  stage 12  "
      ]
     },
     "execution_count": 89,
     "metadata": {},
     "output_type": "execute_result"
    }
   ],
   "source": [
    "df_india_melbourne = df_india_matches[df_india_matches['ground'] == 'Melbourne']\n",
    "df_india_melbourne"
   ]
  },
  {
   "cell_type": "code",
   "execution_count": 90,
   "id": "c433a774",
   "metadata": {},
   "outputs": [
    {
     "data": {
      "text/html": [
       "<div>\n",
       "<style scoped>\n",
       "    .dataframe tbody tr th:only-of-type {\n",
       "        vertical-align: middle;\n",
       "    }\n",
       "\n",
       "    .dataframe tbody tr th {\n",
       "        vertical-align: top;\n",
       "    }\n",
       "\n",
       "    .dataframe thead th {\n",
       "        text-align: right;\n",
       "    }\n",
       "</style>\n",
       "<table border=\"1\" class=\"dataframe\">\n",
       "  <thead>\n",
       "    <tr style=\"text-align: right;\">\n",
       "      <th></th>\n",
       "      <th>team1</th>\n",
       "      <th>team2</th>\n",
       "      <th>winner</th>\n",
       "      <th>margin</th>\n",
       "      <th>ground</th>\n",
       "      <th>matchDate</th>\n",
       "      <th>match_id</th>\n",
       "      <th>stage</th>\n",
       "    </tr>\n",
       "  </thead>\n",
       "  <tbody>\n",
       "    <tr>\n",
       "      <th>15</th>\n",
       "      <td>India</td>\n",
       "      <td>Pakistan</td>\n",
       "      <td>India</td>\n",
       "      <td>4 wickets</td>\n",
       "      <td>Melbourne</td>\n",
       "      <td>2022-10-23</td>\n",
       "      <td>T20I # 1842</td>\n",
       "      <td>stage 12</td>\n",
       "    </tr>\n",
       "    <tr>\n",
       "      <th>22</th>\n",
       "      <td>India</td>\n",
       "      <td>Netherlands</td>\n",
       "      <td>India</td>\n",
       "      <td>56 runs</td>\n",
       "      <td>Sydney</td>\n",
       "      <td>2022-10-27</td>\n",
       "      <td>T20I # 1848</td>\n",
       "      <td>stage 12</td>\n",
       "    </tr>\n",
       "    <tr>\n",
       "      <th>29</th>\n",
       "      <td>India</td>\n",
       "      <td>South Africa</td>\n",
       "      <td>South Africa</td>\n",
       "      <td>5 wickets</td>\n",
       "      <td>Perth</td>\n",
       "      <td>2022-10-30</td>\n",
       "      <td>T20I # 1853</td>\n",
       "      <td>stage 12</td>\n",
       "    </tr>\n",
       "    <tr>\n",
       "      <th>34</th>\n",
       "      <td>Bangladesh</td>\n",
       "      <td>India</td>\n",
       "      <td>India</td>\n",
       "      <td>5 runs</td>\n",
       "      <td>Adelaide</td>\n",
       "      <td>2022-11-02</td>\n",
       "      <td>T20I # 1860</td>\n",
       "      <td>stage 12</td>\n",
       "    </tr>\n",
       "    <tr>\n",
       "      <th>41</th>\n",
       "      <td>India</td>\n",
       "      <td>Zimbabwe</td>\n",
       "      <td>India</td>\n",
       "      <td>71 runs</td>\n",
       "      <td>Melbourne</td>\n",
       "      <td>2022-11-06</td>\n",
       "      <td>T20I # 1873</td>\n",
       "      <td>stage 12</td>\n",
       "    </tr>\n",
       "    <tr>\n",
       "      <th>43</th>\n",
       "      <td>England</td>\n",
       "      <td>India</td>\n",
       "      <td>England</td>\n",
       "      <td>10 wickets</td>\n",
       "      <td>Adelaide</td>\n",
       "      <td>2022-11-10</td>\n",
       "      <td>T20I # 1878</td>\n",
       "      <td>stage 12</td>\n",
       "    </tr>\n",
       "  </tbody>\n",
       "</table>\n",
       "</div>"
      ],
      "text/plain": [
       "         team1         team2        winner      margin     ground  matchDate  \\\n",
       "15       India      Pakistan         India   4 wickets  Melbourne 2022-10-23   \n",
       "22       India   Netherlands         India     56 runs     Sydney 2022-10-27   \n",
       "29       India  South Africa  South Africa   5 wickets      Perth 2022-10-30   \n",
       "34  Bangladesh         India         India      5 runs   Adelaide 2022-11-02   \n",
       "41       India      Zimbabwe         India     71 runs  Melbourne 2022-11-06   \n",
       "43     England         India       England  10 wickets   Adelaide 2022-11-10   \n",
       "\n",
       "       match_id     stage  \n",
       "15  T20I # 1842  stage 12  \n",
       "22  T20I # 1848  stage 12  \n",
       "29  T20I # 1853  stage 12  \n",
       "34  T20I # 1860  stage 12  \n",
       "41  T20I # 1873  stage 12  \n",
       "43  T20I # 1878  stage 12  "
      ]
     },
     "execution_count": 90,
     "metadata": {},
     "output_type": "execute_result"
    }
   ],
   "source": [
    "df_india_matches"
   ]
  },
  {
   "cell_type": "code",
   "execution_count": 91,
   "id": "a35b565e",
   "metadata": {},
   "outputs": [],
   "source": [
    "def win_percentage(df, team):\n",
    "    count = 0\n",
    "    for index, rows in df.iterrows():\n",
    "        if rows['winner'] == team:\n",
    "            count += 1\n",
    "            \n",
    "    print(\"Win Ratio is: \", count/len(df. index) * 100, '%')"
   ]
  },
  {
   "cell_type": "code",
   "execution_count": 92,
   "id": "f5618d35",
   "metadata": {},
   "outputs": [
    {
     "name": "stdout",
     "output_type": "stream",
     "text": [
      "India's Win ratio in Melbourne Ground:\n",
      "Win Ratio is:  100.0 %\n"
     ]
    }
   ],
   "source": [
    "print(\"India's Win ratio in Melbourne Ground:\")\n",
    "win_percentage(df_india_melbourne, 'India')"
   ]
  },
  {
   "cell_type": "markdown",
   "id": "0a1f7bc7",
   "metadata": {},
   "source": [
    "### 11) India's Win Ratio  in the Torunament"
   ]
  },
  {
   "cell_type": "code",
   "execution_count": 93,
   "id": "035d9adf",
   "metadata": {
    "scrolled": false
   },
   "outputs": [
    {
     "name": "stdout",
     "output_type": "stream",
     "text": [
      "Team India's win percentage in the Tournament\n",
      "Win Ratio is:  66.66666666666666 %\n"
     ]
    }
   ],
   "source": [
    "print(\"Team India's win percentage in the Tournament\")\n",
    "win_percentage(df_india_matches, 'India') "
   ]
  },
  {
   "cell_type": "markdown",
   "id": "f21ad279",
   "metadata": {},
   "source": [
    "### 12) Average Stats of a Batsman in 2nd Position"
   ]
  },
  {
   "cell_type": "code",
   "execution_count": 328,
   "id": "7f23ecbb",
   "metadata": {},
   "outputs": [
    {
     "data": {
      "text/html": [
       "<div>\n",
       "<style scoped>\n",
       "    .dataframe tbody tr th:only-of-type {\n",
       "        vertical-align: middle;\n",
       "    }\n",
       "\n",
       "    .dataframe tbody tr th {\n",
       "        vertical-align: top;\n",
       "    }\n",
       "\n",
       "    .dataframe thead th {\n",
       "        text-align: right;\n",
       "    }\n",
       "</style>\n",
       "<table border=\"1\" class=\"dataframe\">\n",
       "  <thead>\n",
       "    <tr style=\"text-align: right;\">\n",
       "      <th></th>\n",
       "      <th>runs</th>\n",
       "      <th>SR</th>\n",
       "      <th>4s</th>\n",
       "      <th>6s</th>\n",
       "    </tr>\n",
       "    <tr>\n",
       "      <th>battingPos</th>\n",
       "      <th></th>\n",
       "      <th></th>\n",
       "      <th></th>\n",
       "      <th></th>\n",
       "    </tr>\n",
       "  </thead>\n",
       "  <tbody>\n",
       "    <tr>\n",
       "      <th>2</th>\n",
       "      <td>22.238095</td>\n",
       "      <td>99.429762</td>\n",
       "      <td>1.952381</td>\n",
       "      <td>0.785714</td>\n",
       "    </tr>\n",
       "  </tbody>\n",
       "</table>\n",
       "</div>"
      ],
      "text/plain": [
       "                 runs         SR        4s        6s\n",
       "battingPos                                          \n",
       "2           22.238095  99.429762  1.952381  0.785714"
      ]
     },
     "execution_count": 328,
     "metadata": {},
     "output_type": "execute_result"
    }
   ],
   "source": [
    "df_2pos = df_batting[df_batting['battingPos'] == 2]\n",
    "df_2pos.groupby('battingPos')[['runs', 'SR', '4s', '6s']].mean('runs')"
   ]
  },
  {
   "cell_type": "markdown",
   "id": "20a6c33f",
   "metadata": {},
   "source": [
    "## Analysing Dismissals"
   ]
  },
  {
   "cell_type": "markdown",
   "id": "d24cad4d",
   "metadata": {},
   "source": [
    "### Creating a DF for Dismissals"
   ]
  },
  {
   "cell_type": "code",
   "execution_count": 329,
   "id": "ea4983f6",
   "metadata": {
    "scrolled": true
   },
   "outputs": [
    {
     "data": {
      "text/html": [
       "<div>\n",
       "<style scoped>\n",
       "    .dataframe tbody tr th:only-of-type {\n",
       "        vertical-align: middle;\n",
       "    }\n",
       "\n",
       "    .dataframe tbody tr th {\n",
       "        vertical-align: top;\n",
       "    }\n",
       "\n",
       "    .dataframe thead th {\n",
       "        text-align: right;\n",
       "    }\n",
       "</style>\n",
       "<table border=\"1\" class=\"dataframe\">\n",
       "  <thead>\n",
       "    <tr style=\"text-align: right;\">\n",
       "      <th></th>\n",
       "      <th>batsman</th>\n",
       "      <th>dismissal</th>\n",
       "      <th>out/not_out</th>\n",
       "      <th>match_id</th>\n",
       "    </tr>\n",
       "  </thead>\n",
       "  <tbody>\n",
       "    <tr>\n",
       "      <th>0</th>\n",
       "      <td>Michael van Lingen</td>\n",
       "      <td>c Pramod Madushan b Chameera</td>\n",
       "      <td>out</td>\n",
       "      <td>T20I # 1823</td>\n",
       "    </tr>\n",
       "    <tr>\n",
       "      <th>1</th>\n",
       "      <td>Divan la Cock</td>\n",
       "      <td>c Shanaka b Pramod Madushan</td>\n",
       "      <td>out</td>\n",
       "      <td>T20I # 1823</td>\n",
       "    </tr>\n",
       "    <tr>\n",
       "      <th>2</th>\n",
       "      <td>Jan Nicol Loftie-Eaton</td>\n",
       "      <td>c Mendis b Karunaratne</td>\n",
       "      <td>out</td>\n",
       "      <td>T20I # 1823</td>\n",
       "    </tr>\n",
       "  </tbody>\n",
       "</table>\n",
       "</div>"
      ],
      "text/plain": [
       "                  batsman                     dismissal out/not_out  \\\n",
       "0      Michael van Lingen  c Pramod Madushan b Chameera         out   \n",
       "1           Divan la Cock   c Shanaka b Pramod Madushan         out   \n",
       "2  Jan Nicol Loftie-Eaton        c Mendis b Karunaratne         out   \n",
       "\n",
       "      match_id  \n",
       "0  T20I # 1823  \n",
       "1  T20I # 1823  \n",
       "2  T20I # 1823  "
      ]
     },
     "execution_count": 329,
     "metadata": {},
     "output_type": "execute_result"
    }
   ],
   "source": [
    "df_dismissal = pd.DataFrame()\n",
    "df_dismissal[['batsman', 'dismissal', 'out/not_out', 'match_id']] = df_batting[['batsman', 'dismissal', 'out/not_out', 'match_id']]\n",
    "df_dismissal = df_dismissal.loc[df_dismissal['out/not_out'] == 'out']\n",
    "df_dismissal.head(3)"
   ]
  },
  {
   "cell_type": "code",
   "execution_count": 330,
   "id": "6ab7643d",
   "metadata": {},
   "outputs": [
    {
     "data": {
      "text/plain": [
       "Index(['match', 'battingPos', 'dismissal', 'runs', 'balls', '4s', '6s', 'SR',\n",
       "       'match_id', 'out/not_out', 'Team', 'batsman', 'boundaries'],\n",
       "      dtype='object')"
      ]
     },
     "execution_count": 330,
     "metadata": {},
     "output_type": "execute_result"
    }
   ],
   "source": [
    "df_batting.columns"
   ]
  },
  {
   "cell_type": "markdown",
   "id": "31762973",
   "metadata": {},
   "source": [
    "### Adding Type of Dismissal column and filling values:"
   ]
  },
  {
   "cell_type": "code",
   "execution_count": 331,
   "id": "3a446270",
   "metadata": {},
   "outputs": [],
   "source": [
    "df_dismissal['dismissal_type'] = ''\n",
    "\n",
    "def dismissal_type():\n",
    "    for index, row in df_dismissal.iterrows():\n",
    "        if row['dismissal'][0:2] == 'c ':\n",
    "            row['dismissal_type'] = 'caught out'\n",
    "        elif row['dismissal'][0:7] == 'run out':\n",
    "            row['dismissal_type'] = 'run out'\n",
    "        elif row['dismissal'][0:4] == 'lbw ':\n",
    "            row['dismissal_type'] = 'lbw'\n",
    "        elif row['dismissal'][0:3] == 'st ':\n",
    "            row['dismissal_type'] = 'stumped'\n",
    "        else:\n",
    "            row['dismissal_type'] = 'bowled'\n",
    "dismissal_type()"
   ]
  },
  {
   "cell_type": "markdown",
   "id": "3c95e2c3",
   "metadata": {},
   "source": [
    "### Adding Bowler, Caught-by, Stumped-by columns and filling values:"
   ]
  },
  {
   "cell_type": "code",
   "execution_count": 332,
   "id": "2a867fda",
   "metadata": {},
   "outputs": [],
   "source": [
    "df_dismissal['bowler'] = ''\n",
    "df_dismissal['caught_by'] = ''\n",
    "df_dismissal['stumped_by'] = ''\n",
    "\n",
    "def bowler():\n",
    "    for index, row in df_dismissal.iterrows():\n",
    "        if row['dismissal_type'] == 'caught out':\n",
    "            row['bowler'] = row['dismissal'].split('b ')[1]\n",
    "            row['caught_by'] = row['dismissal'].split('b ')[0][2:]\n",
    "        elif row['dismissal_type'] == 'run out':\n",
    "            row['bowler'] = np.nan \n",
    "        elif row['dismissal_type'] == 'lbw':\n",
    "            row['bowler'] = row['dismissal'].split('b ')[1]\n",
    "        elif row['dismissal_type'] == 'stumped':\n",
    "            row['bowler'] = row['dismissal'].split('b ')[1][3:]\n",
    "            row['stumped_by'] = row['dismissal'].split('b ')[0]\n",
    "        else:\n",
    "            row['bowler'] = row['dismissal'].split('b ')[1]\n",
    "bowler()"
   ]
  },
  {
   "cell_type": "markdown",
   "id": "a538fa85",
   "metadata": {},
   "source": [
    "### 13)  Analysing a Batsman's dismissals"
   ]
  },
  {
   "cell_type": "code",
   "execution_count": 333,
   "id": "8cd39ffc",
   "metadata": {},
   "outputs": [
    {
     "data": {
      "text/plain": [
       "Text(0.5, 1.0, \"Sean Williams' wicket losses\")"
      ]
     },
     "execution_count": 333,
     "metadata": {},
     "output_type": "execute_result"
    },
    {
     "data": {
      "image/png": "[encoded data removed]",
      "text/plain": [
       "<Figure size 432x288 with 1 Axes>"
      ]
     },
     "metadata": {},
     "output_type": "display_data"
    }
   ],
   "source": [
    "df_sw = df_dismissal.loc[df_dismissal['batsman'] == 'Sean Williams']\n",
    "\n",
    "sns.countplot(x = 'dismissal_type',data = df_sw).set_title(\"Sean Williams' wicket losses\")"
   ]
  },
  {
   "cell_type": "raw",
   "id": "b8fc39cc",
   "metadata": {},
   "source": [
    "Sean Williams has lost most of his wicket due to Catches"
   ]
  },
  {
   "cell_type": "markdown",
   "id": "21c0720d",
   "metadata": {},
   "source": [
    "### 14) Analysing Bowler's wickets"
   ]
  },
  {
   "cell_type": "code",
   "execution_count": 334,
   "id": "da045e79",
   "metadata": {
    "scrolled": false
   },
   "outputs": [
    {
     "data": {
      "text/plain": [
       "Text(0.5, 1.0, \"PWH de Silva's Dismissals\")"
      ]
     },
     "execution_count": 334,
     "metadata": {},
     "output_type": "execute_result"
    },
    {
     "data": {
      "image/png": "[encoded data removed]",
      "text/plain": [
       "<Figure size 432x288 with 1 Axes>"
      ]
     },
     "metadata": {},
     "output_type": "display_data"
    }
   ],
   "source": [
    "df_whds =  df_dismissal[df_dismissal['bowler'] == 'PWH de Silva']\n",
    "df_whds\n",
    "\n",
    "sns.countplot(x = 'dismissal_type',data = df_whds).set_title(\"PWH de Silva's Dismissals\")"
   ]
  },
  {
   "cell_type": "raw",
   "id": "e4d3a720",
   "metadata": {},
   "source": [
    "PWH de Silva has taken most of the wickets by catches"
   ]
  },
  {
   "cell_type": "markdown",
   "id": "3cb859f9",
   "metadata": {},
   "source": [
    "### 15) Most Run Outs"
   ]
  },
  {
   "cell_type": "code",
   "execution_count": 335,
   "id": "865d15ed",
   "metadata": {
    "scrolled": true
   },
   "outputs": [
    {
     "data": {
      "text/html": [
       "<div>\n",
       "<style scoped>\n",
       "    .dataframe tbody tr th:only-of-type {\n",
       "        vertical-align: middle;\n",
       "    }\n",
       "\n",
       "    .dataframe tbody tr th {\n",
       "        vertical-align: top;\n",
       "    }\n",
       "\n",
       "    .dataframe thead th {\n",
       "        text-align: right;\n",
       "    }\n",
       "</style>\n",
       "<table border=\"1\" class=\"dataframe\">\n",
       "  <thead>\n",
       "    <tr style=\"text-align: right;\">\n",
       "      <th></th>\n",
       "      <th>dismissal_type</th>\n",
       "    </tr>\n",
       "    <tr>\n",
       "      <th>batsman</th>\n",
       "      <th></th>\n",
       "    </tr>\n",
       "  </thead>\n",
       "  <tbody>\n",
       "    <tr>\n",
       "      <th>Paul van Meekeren</th>\n",
       "      <td>2</td>\n",
       "    </tr>\n",
       "    <tr>\n",
       "      <th>Max O'Dowd</th>\n",
       "      <td>2</td>\n",
       "    </tr>\n",
       "    <tr>\n",
       "      <th>Sean Williams</th>\n",
       "      <td>2</td>\n",
       "    </tr>\n",
       "    <tr>\n",
       "      <th>Gulbadin Naib</th>\n",
       "      <td>2</td>\n",
       "    </tr>\n",
       "    <tr>\n",
       "      <th>Akeal Hosein</th>\n",
       "      <td>1</td>\n",
       "    </tr>\n",
       "  </tbody>\n",
       "</table>\n",
       "</div>"
      ],
      "text/plain": [
       "                   dismissal_type\n",
       "batsman                          \n",
       "Paul van Meekeren               2\n",
       "Max O'Dowd                      2\n",
       "Sean Williams                   2\n",
       "Gulbadin Naib                   2\n",
       "Akeal Hosein                    1"
      ]
     },
     "execution_count": 335,
     "metadata": {},
     "output_type": "execute_result"
    }
   ],
   "source": [
    "df_run_out = df_dismissal[df_dismissal['dismissal_type'] == 'run out']\n",
    "df_most_run_outs = df_run_out.groupby('batsman')[['dismissal_type']].count().sort_values(by = 'dismissal_type', ascending = False).head(5)\n",
    "df_most_run_outs"
   ]
  },
  {
   "cell_type": "code",
   "execution_count": 336,
   "id": "f3edbaf1",
   "metadata": {},
   "outputs": [
    {
     "data": {
      "text/plain": [
       "[Text(0, 0.5, 'Number of Run Outs'),\n",
       " Text(0.5, 1.0, 'Most Run Outs as a Batsman')]"
      ]
     },
     "execution_count": 336,
     "metadata": {},
     "output_type": "execute_result"
    },
    {
     "data": {
      "image/png": "[encoded data removed]",
      "text/plain": [
       "<Figure size 648x360 with 1 Axes>"
      ]
     },
     "metadata": {},
     "output_type": "display_data"
    }
   ],
   "source": [
    "plt.figure(figsize=(9,5))\n",
    "sns.set_style('darkgrid')\n",
    "\n",
    "sns.barplot(x= df_most_run_outs.index ,y='dismissal_type', data = df_most_run_outs).set(ylabel='Number of Run Outs', title = 'Most Run Outs as a Batsman')"
   ]
  },
  {
   "cell_type": "markdown",
   "id": "75108c6e",
   "metadata": {},
   "source": [
    "### 16) Highest Catches"
   ]
  },
  {
   "cell_type": "code",
   "execution_count": 337,
   "id": "76e07292",
   "metadata": {
    "scrolled": true
   },
   "outputs": [
    {
     "data": {
      "text/html": [
       "<div>\n",
       "<style scoped>\n",
       "    .dataframe tbody tr th:only-of-type {\n",
       "        vertical-align: middle;\n",
       "    }\n",
       "\n",
       "    .dataframe tbody tr th {\n",
       "        vertical-align: top;\n",
       "    }\n",
       "\n",
       "    .dataframe thead th {\n",
       "        text-align: right;\n",
       "    }\n",
       "</style>\n",
       "<table border=\"1\" class=\"dataframe\">\n",
       "  <thead>\n",
       "    <tr style=\"text-align: right;\">\n",
       "      <th></th>\n",
       "      <th>dismissal_type</th>\n",
       "    </tr>\n",
       "    <tr>\n",
       "      <th>caught_by</th>\n",
       "      <th></th>\n",
       "    </tr>\n",
       "  </thead>\n",
       "  <tbody>\n",
       "    <tr>\n",
       "      <th>&amp;</th>\n",
       "      <td>15</td>\n",
       "    </tr>\n",
       "    <tr>\n",
       "      <th>su</th>\n",
       "      <td>10</td>\n",
       "    </tr>\n",
       "    <tr>\n",
       "      <th>Shanaka</th>\n",
       "      <td>9</td>\n",
       "    </tr>\n",
       "    <tr>\n",
       "      <th>Buttler</th>\n",
       "      <td>9</td>\n",
       "    </tr>\n",
       "    <tr>\n",
       "      <th>Edwards</th>\n",
       "      <td>9</td>\n",
       "    </tr>\n",
       "  </tbody>\n",
       "</table>\n",
       "</div>"
      ],
      "text/plain": [
       "           dismissal_type\n",
       "caught_by                \n",
       "&                      15\n",
       "su                     10\n",
       "Shanaka                 9\n",
       "Buttler                 9\n",
       "Edwards                 9"
      ]
     },
     "execution_count": 337,
     "metadata": {},
     "output_type": "execute_result"
    }
   ],
   "source": [
    "df_catches = df_dismissal[df_dismissal['dismissal_type'] == 'caught out']\n",
    "df_most_catches = df_catches.groupby('caught_by')[['dismissal_type']].count().sort_values(by = 'dismissal_type', ascending = False).head(5)\n",
    "df_most_catches"
   ]
  },
  {
   "cell_type": "markdown",
   "id": "e72e1823",
   "metadata": {},
   "source": [
    "##  Ground - Insights"
   ]
  },
  {
   "cell_type": "code",
   "execution_count": 344,
   "id": "90a918c5",
   "metadata": {},
   "outputs": [],
   "source": [
    "df_match_batting = df_batting.merge(df_match, on = 'match_id', how = 'inner')\n",
    "df_match_bowling = df_bowling.merge(df_match, on = 'match_id', how = 'inner')"
   ]
  },
  {
   "cell_type": "markdown",
   "id": "be323a85",
   "metadata": {},
   "source": [
    "### 17) Rilee Rossouw's Average Performance in different Grounds"
   ]
  },
  {
   "cell_type": "code",
   "execution_count": 365,
   "id": "f43b986d",
   "metadata": {
    "scrolled": true
   },
   "outputs": [
    {
     "data": {
      "text/plain": [
       "<AxesSubplot:xlabel='ground', ylabel='runs'>"
      ]
     },
     "execution_count": 365,
     "metadata": {},
     "output_type": "execute_result"
    },
    {
     "data": {
      "image/png": "[encoded data removed]",
      "text/plain": [
       "<Figure size 648x360 with 1 Axes>"
      ]
     },
     "metadata": {},
     "output_type": "display_data"
    }
   ],
   "source": [
    "df_rr = df_match_batting[df_match_batting['batsman'] == 'Rilee Rossouw']\n",
    "rr_avg = df_rr.groupby('ground')[['runs', 'SR']].mean()\n",
    "\n",
    "plt.figure(figsize=(9,5))\n",
    "sns.set_style('darkgrid')\n",
    "sns.barplot(x='ground',y='runs',data=df_rr, hue='ground')\n"
   ]
  },
  {
   "cell_type": "markdown",
   "id": "4bfdb644",
   "metadata": {},
   "source": [
    "### 17) 6s in different Grounds"
   ]
  },
  {
   "cell_type": "code",
   "execution_count": 383,
   "id": "b9b8f4cd",
   "metadata": {},
   "outputs": [
    {
     "data": {
      "text/plain": [
       "<AxesSubplot:xlabel='ground', ylabel='6s'>"
      ]
     },
     "execution_count": 383,
     "metadata": {},
     "output_type": "execute_result"
    },
    {
     "data": {
      "image/png": "[encoded data removed]",
      "text/plain": [
       "<Figure size 648x360 with 1 Axes>"
      ]
     },
     "metadata": {},
     "output_type": "display_data"
    }
   ],
   "source": [
    "df_sixes_grounds = df_match_batting.groupby('ground')[['6s']].sum('6s')\n",
    "df_sixes_grounds\n",
    "\n",
    "plt.figure(figsize=(9,5))\n",
    "sns.barplot(x = df_sixes_grounds.index, y='6s', data=df_sixes_grounds)"
   ]
  },
  {
   "cell_type": "code",
   "execution_count": null,
   "id": "951b5166",
   "metadata": {},
   "outputs": [],
   "source": []
  }
 ],
 "metadata": {
  "kernelspec": {
   "display_name": "Python 3",
   "language": "python",
   "name": "python3"
  },
  "language_info": {
   "codemirror_mode": {
    "name": "ipython",
    "version": 3
   },
   "file_extension": ".py",
   "mimetype": "text/x-python",
   "name": "python",
   "nbconvert_exporter": "python",
   "pygments_lexer": "ipython3",
   "version": "3.8.8"
  }
 },
 "nbformat": 4,
 "nbformat_minor": 5
}
